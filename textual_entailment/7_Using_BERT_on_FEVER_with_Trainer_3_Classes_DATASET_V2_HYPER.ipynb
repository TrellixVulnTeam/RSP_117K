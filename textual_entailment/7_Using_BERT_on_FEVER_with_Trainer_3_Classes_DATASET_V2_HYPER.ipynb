{
 "cells": [
  {
   "cell_type": "markdown",
   "id": "ac43827a",
   "metadata": {},
   "source": [
    "This notebook uses the data produced by `3_fever_processing_for_textual_entailment` to train and evaluate a BERT model for textual entailment. \n",
    "\n",
    "Different from `4_Using_BERT_on_FEVER_with_Trainer_3_Classes_DATASET_V2`, we take a slightly different training approach by:\n",
    "- Experimenting with some different parameters\n",
    "    - This generates new models that we think might perform a bit better\n",
    "- And employing hyperparameter search as well\n",
    "    - Same as above"
   ]
  },
  {
   "cell_type": "code",
   "execution_count": 1,
   "id": "hindu-cooper",
   "metadata": {},
   "outputs": [],
   "source": [
    "import numpy as np\n",
    "import random\n",
    "import torch\n",
    "from pandas import read_csv\n",
    "from sklearn.model_selection import train_test_split\n",
    "from sklearn.model_selection import GroupShuffleSplit as GSS\n",
    "from transformers import BertTokenizer, BertForSequenceClassification, Trainer, TrainingArguments\n",
    "import transformers\n",
    "\n",
    "from seaborn import displot, boxplot\n",
    "import matplotlib.pyplot as plt\n",
    "from torch.utils.data import Dataset, DataLoader\n",
    "from sklearn.metrics import accuracy_score, precision_recall_fscore_support"
   ]
  },
  {
   "cell_type": "code",
   "execution_count": 2,
   "id": "decreased-trace",
   "metadata": {},
   "outputs": [],
   "source": [
    "DEVICE = 'cuda:0' if torch.cuda.is_available() else 'cpu'\n",
    "MODEL_NAME = 'bert-base-uncased'\n",
    "BATCH_SIZE = 16\n",
    "NUM_WORKERS = 2 #was 4 on Rosalind\n",
    "MAX_LEN = 128 # was much bigger (300-400) on the other versions but let's compromise on complexity here"
   ]
  },
  {
   "cell_type": "code",
   "execution_count": 3,
   "id": "authentic-sydney",
   "metadata": {},
   "outputs": [
    {
     "data": {
      "text/plain": [
       "Index(['id', 'evidence', 'claim', 'label', 'evidence_page', 'evidence_line',\n",
       "       'evidence_text', 'evidence_score'],\n",
       "      dtype='object')"
      ]
     },
     "execution_count": 3,
     "metadata": {},
     "output_type": "execute_result"
    }
   ],
   "source": [
    "df_train = read_csv('./data/support_data_v2/train_support_from_bert.csv', encoding='UTF-8')\n",
    "df_dev_test = read_csv('./data/support_data_v2/dev_support_from_bert.csv', encoding='UTF-8')\n",
    "#df_test = read_csv('./data/support_data_v2/test_support_from_bert.csv', encoding='UTF-8')\n",
    "df_train.columns"
   ]
  },
  {
   "cell_type": "code",
   "execution_count": 4,
   "id": "spanish-vitamin",
   "metadata": {},
   "outputs": [],
   "source": [
    "LABELS = ['SUPPORTS', 'REFUTES', 'NOT ENOUGH INFO']\n",
    "def label_to_numeric(row):\n",
    "    if 'label' in row:\n",
    "        return LABELS.index(row['label'])\n",
    "    return -1\n",
    "\n",
    "df_train['label_numeric'] = df_train.apply(label_to_numeric, axis=1)\n",
    "df_dev_test['label_numeric'] = df_dev_test.apply(label_to_numeric, axis=1)"
   ]
  },
  {
   "cell_type": "code",
   "execution_count": 5,
   "id": "professional-shareware",
   "metadata": {},
   "outputs": [
    {
     "data": {
      "text/plain": [
       "((173960, 4), (12673, 4), (12721, 4))"
      ]
     },
     "execution_count": 5,
     "metadata": {},
     "output_type": "execute_result"
    }
   ],
   "source": [
    "columns_to_keep = ['id','claim','evidence_text','label_numeric']\n",
    "df_train = df_train[columns_to_keep]\n",
    "df_dev_test = df_dev_test[columns_to_keep]\n",
    "\n",
    "SPLIT_METHOD = 'GSS'\n",
    "if SPLIT_METHOD == 'GSS':\n",
    "    gss = GSS(n_splits=1, train_size=.5, random_state=42)\n",
    "    dev_ix, test_ix = next(gss.split(df_dev_test, groups=df_dev_test.id))\n",
    "    df_test = df_dev_test.iloc[test_ix]\n",
    "    df_dev = df_dev_test.iloc[dev_ix]\n",
    "else:\n",
    "    df_test, df_dev = train_test_split(df_dev_test, test_size=.5)\n",
    "\n",
    "df_train = df_train.reset_index(drop=True)\n",
    "df_test = df_test.reset_index(drop=True)\n",
    "df_dev = df_dev.reset_index(drop=True)\n",
    "df_train.shape, df_test.shape, df_dev.shape"
   ]
  },
  {
   "cell_type": "code",
   "execution_count": 6,
   "id": "portable-regression",
   "metadata": {},
   "outputs": [],
   "source": [
    "assert not np.any([(i in df_test.id.unique()) for i in df_dev.id.unique()])\n",
    "assert not np.any([(i in df_dev.id.unique()) for i in df_test.id.unique()])"
   ]
  },
  {
   "cell_type": "code",
   "execution_count": 7,
   "id": "missing-archives",
   "metadata": {},
   "outputs": [
    {
     "data": {
      "text/plain": [
       "0    81583\n",
       "2    59114\n",
       "1    33263\n",
       "Name: label_numeric, dtype: int64"
      ]
     },
     "execution_count": 7,
     "metadata": {},
     "output_type": "execute_result"
    }
   ],
   "source": [
    "df_train.label_numeric.value_counts()"
   ]
  },
  {
   "cell_type": "code",
   "execution_count": 8,
   "id": "unusual-samoa",
   "metadata": {},
   "outputs": [],
   "source": [
    "tokenizer = BertTokenizer.from_pretrained(MODEL_NAME, fast=True)"
   ]
  },
  {
   "cell_type": "code",
   "execution_count": 9,
   "id": "criminal-convergence",
   "metadata": {},
   "outputs": [],
   "source": [
    "check_lengths = False\n",
    "\n",
    "if check_lengths:\n",
    "    # This helps see what a good max length would be\n",
    "    def get_tokenized_len(row):\n",
    "        tokens = tokenizer.encode(row['claim'], row['evidence_text'], max_length=512, truncation='only_second')\n",
    "        return len(tokens)\n",
    "\n",
    "    for df in [df_train, df_test, df_dev]:\n",
    "        df['tokenized_len'] = df.apply(get_tokenized_len, axis=1)\n",
    "\n",
    "    tokenized_lens = df_train['tokenized_len'].tolist() +\\\n",
    "        df_test['tokenized_len'].tolist() +\\\n",
    "        df_dev['tokenized_len'].tolist()\n",
    "\n",
    "    boxplot(x=tokenized_lens)\n",
    "    plt.xlim([0, 512]);\n",
    "    plt.xlabel('Token count');\n",
    "\n",
    "    print(np.percentile(tokenized_lens, 99))\n",
    "    # 113.0"
   ]
  },
  {
   "cell_type": "code",
   "execution_count": 10,
   "id": "circular-sacrifice",
   "metadata": {},
   "outputs": [],
   "source": [
    "class FEVERDataset(Dataset):\n",
    "    def __init__(self, claims, sentences, labels, tokenizer, max_len):\n",
    "        self.claims=claims\n",
    "        self.sentences=sentences\n",
    "        self.labels=labels\n",
    "        self.tokenizer=tokenizer\n",
    "        self.max_len=max_len\n",
    "        \n",
    "    def __len__(self):\n",
    "        return(len(self.claims))\n",
    "    \n",
    "    def __getitem__(self, idx):\n",
    "        claim = self.claims[idx]\n",
    "        sentence = self.sentences[idx]\n",
    "        label = self.labels[idx]\n",
    "        \n",
    "        encoding = self.tokenizer(\n",
    "            claim,\n",
    "            sentence,\n",
    "            max_length=self.max_len,\n",
    "            return_token_type_ids=False,\n",
    "            padding='max_length',\n",
    "            truncation=True,\n",
    "            return_tensors='pt',\n",
    "        ).to(DEVICE)\n",
    "        \n",
    "        return {\n",
    "            'claim': claim,\n",
    "            'sentence': sentence,\n",
    "            'input_ids': encoding['input_ids'].flatten(),\n",
    "            'attention_mask': encoding['attention_mask'].flatten(),\n",
    "            'label': torch.tensor(label, dtype=torch.long).to(DEVICE)\n",
    "        }\n",
    "    \n",
    "def to_data_loader(df, tokenizer, max_len, batch_size, num_workers):\n",
    "    dataset = FEVERDataset(\n",
    "        claims = df.claim,\n",
    "        sentences = df.evidence_text,\n",
    "        labels = df.label_numeric,\n",
    "        tokenizer=tokenizer,\n",
    "        max_len=max_len\n",
    "    )\n",
    "    \n",
    "    return dataset, DataLoader(dataset, batch_size=batch_size, num_workers=num_workers)\n",
    "    \n",
    "train_dataset, train_dataloader = to_data_loader(df_train, tokenizer, MAX_LEN, BATCH_SIZE, NUM_WORKERS)\n",
    "test_dataset, test_dataloader = to_data_loader(df_test, tokenizer, MAX_LEN, BATCH_SIZE, NUM_WORKERS)\n",
    "dev_dataset, dev_dataloader = to_data_loader(df_dev, tokenizer, MAX_LEN, BATCH_SIZE, NUM_WORKERS)"
   ]
  },
  {
   "cell_type": "code",
   "execution_count": 11,
   "id": "critical-brazil",
   "metadata": {},
   "outputs": [],
   "source": [
    "def compute_metrics(pred):\n",
    "    labels = pred.label_ids\n",
    "    preds = pred.predictions.argmax(-1)\n",
    "    precision, recall, f1, _ = precision_recall_fscore_support(labels, preds, average='macro')\n",
    "    acc = accuracy_score(labels, preds)\n",
    "    return {\n",
    "        'accuracy': acc,\n",
    "        'f1': f1,\n",
    "        'precision': precision,\n",
    "        'recall': recall\n",
    "    }"
   ]
  },
  {
   "cell_type": "code",
   "execution_count": 12,
   "id": "124af88b",
   "metadata": {},
   "outputs": [
    {
     "name": "stdout",
     "output_type": "stream",
     "text": [
      "Mon Mar 28 12:50:15 2022       \n",
      "+-----------------------------------------------------------------------------+\n",
      "| NVIDIA-SMI 418.40.04    Driver Version: 418.40.04    CUDA Version: 10.1     |\n",
      "|-------------------------------+----------------------+----------------------+\n",
      "| GPU  Name        Persistence-M| Bus-Id        Disp.A | Volatile Uncorr. ECC |\n",
      "| Fan  Temp  Perf  Pwr:Usage/Cap|         Memory-Usage | GPU-Util  Compute M. |\n",
      "|===============================+======================+======================|\n",
      "|   0  Tesla V100-PCIE...  Off  | 00000000:D8:00.0 Off |                    0 |\n",
      "| N/A   33C    P0    25W / 250W |     12MiB / 32480MiB |      0%      Default |\n",
      "+-------------------------------+----------------------+----------------------+\n",
      "                                                                               \n",
      "+-----------------------------------------------------------------------------+\n",
      "| Processes:                                                       GPU Memory |\n",
      "|  GPU       PID   Type   Process name                             Usage      |\n",
      "|=============================================================================|\n",
      "|  No running processes found                                                 |\n",
      "+-----------------------------------------------------------------------------+\n"
     ]
    }
   ],
   "source": [
    "import gc\n",
    "gc.collect()\n",
    "torch.cuda.empty_cache()\n",
    "!nvidia-smi"
   ]
  },
  {
   "cell_type": "markdown",
   "id": "meaningful-michael",
   "metadata": {},
   "source": [
    "## Training"
   ]
  },
  {
   "cell_type": "code",
   "execution_count": null,
   "id": "organized-phenomenon",
   "metadata": {
    "scrolled": true
   },
   "outputs": [],
   "source": [
    "SEED = 42\n",
    "NUM_EPOCHS = 2\n",
    "\n",
    "random.seed(SEED)\n",
    "torch.manual_seed(SEED)\n",
    "np.random.seed(SEED)\n",
    "\n",
    "train_batch_size = 32 # 32 on Rosalind worked, but on Gravity we had to scale down\n",
    "n_training_steps_per_epoch = np.ceil(len(train_dataset)/train_batch_size)\n",
    "\n",
    "training_args = TrainingArguments(\n",
    "    output_dir='./run/7_Using_BERT_on_FEVER_with_Trainer_3_Classes_DATASET_V2/',\n",
    "    num_train_epochs=NUM_EPOCHS, #past version had 3, but 2 really usually is enough\n",
    "    evaluation_strategy=\"steps\",\n",
    "    save_strategy=\"steps\",\n",
    "    per_device_train_batch_size=train_batch_size,\n",
    "    per_device_eval_batch_size=32, #past version had 64, perhaps this lets us have a better evaluation?\n",
    "    learning_rate=2e-05, #The use used in the past version was 5e-5 (default).\n",
    "    warmup_ratio=0.1,#06358,#0.01532848953 was used in the past version (500 / 32619 total steps)\n",
    "    weight_decay=0.039676,\n",
    "    seed=SEED,\n",
    "    eval_steps=int(n_training_steps_per_epoch//(5*NUM_EPOCHS)),\n",
    "    save_steps=int(n_training_steps_per_epoch//(5*NUM_EPOCHS)),\n",
    "    save_total_limit=1,\n",
    "    dataloader_pin_memory=False,\n",
    "    load_best_model_at_end=True,\n",
    "    metric_for_best_model='f1',\n",
    ")\n",
    "\n",
    "model = BertForSequenceClassification.from_pretrained(MODEL_NAME, num_labels = 3).to(DEVICE)\n",
    "\n",
    "trainer = Trainer(\n",
    "    model=model,\n",
    "    args=training_args,\n",
    "    train_dataset=train_dataset,\n",
    "    eval_dataset=dev_dataset,\n",
    "    compute_metrics=compute_metrics      # metrics to be computed\n",
    ")\n",
    "\n",
    "trainer.train()"
   ]
  },
  {
   "cell_type": "code",
   "execution_count": null,
   "id": "amended-order",
   "metadata": {},
   "outputs": [],
   "source": [
    "trainer.evaluate(eval_dataset = test_dataset, metric_key_prefix='test')"
   ]
  },
  {
   "cell_type": "markdown",
   "id": "latest-wagon",
   "metadata": {},
   "source": [
    "BEST SO FAR (ALL SEEDS = 42):\n",
    "```\n",
    "{\n",
    "    'test_loss': 0.6015421152114868,\n",
    "    'test_accuracy': 0.7665114811015545,\n",
    "    'test_f1': 0.7684305227347576,\n",
    "    'test_precision': 0.7663349147229986,\n",
    "    'test_recall': 0.7763667260545638,\n",
    "    'test_runtime': 50.8461,\n",
    "    'test_samples_per_second': 249.242,\n",
    "    'epoch': 2.0,\n",
    "    'eval_mem_cpu_alloc_delta': 310133,\n",
    "    'eval_mem_gpu_alloc_delta': 0,\n",
    "    'eval_mem_cpu_peaked_delta': 630416,\n",
    "    'eval_mem_gpu_peaked_delta': 138833408\n",
    "}\n",
    "```\n",
    "WITH PARAMS:\n",
    "```\n",
    "SEED = 42\n",
    "\n",
    "random.seed(SEED)\n",
    "torch.manual_seed(SEED)\n",
    "np.random.seed(SEED)\n",
    "\n",
    "train_batch_size = 32\n",
    "n_training_steps_per_epoch = np.ceil(len(train_dataset)/train_batch_size)\n",
    "\n",
    "training_args = TrainingArguments(\n",
    "    output_dir='./results',\n",
    "    num_train_epochs=2,\n",
    "    evaluation_strategy=\"steps\",\n",
    "    per_device_train_batch_size=train_batch_size,\n",
    "    per_device_eval_batch_size=32,\n",
    "    learning_rate=1.7272998688284028e-05,\n",
    "    warmup_ratio=0.1,\n",
    "    weight_decay=0.01,\n",
    "    seed=SEED,\n",
    "    eval_steps=int(n_training_steps_per_epoch//10),\n",
    "    save_total_limit=1, \n",
    "    dataloader_pin_memory=False,\n",
    "    load_best_model_at_end=True,\n",
    "    metric_for_best_model='f1',\n",
    ")\n",
    "```"
   ]
  },
  {
   "cell_type": "code",
   "execution_count": null,
   "id": "immediate-developer",
   "metadata": {},
   "outputs": [],
   "source": [
    "trainer.save_model('./models/BERT_FEVER_v3_model')\n",
    "tokenizer.save_pretrained('models/BERT_FEVER_v3_tok')"
   ]
  },
  {
   "cell_type": "markdown",
   "id": "concerned-donor",
   "metadata": {},
   "source": [
    "## Loading the model again for sanity checking"
   ]
  },
  {
   "cell_type": "code",
   "execution_count": null,
   "id": "earlier-pearl",
   "metadata": {},
   "outputs": [],
   "source": [
    "model2 = BertForSequenceClassification.from_pretrained('./models/BERT_FEVER_v3_model').to(DEVICE)\n",
    "tokenizer2 = BertTokenizer.from_pretrained('models/BERT_FEVER_v3_tok')"
   ]
  },
  {
   "cell_type": "code",
   "execution_count": null,
   "id": "alone-minute",
   "metadata": {},
   "outputs": [],
   "source": [
    "trainer2 = Trainer(\n",
    "    model=model2,\n",
    "    args=training_args,\n",
    "    train_dataset=train_dataset,\n",
    "    eval_dataset=dev_dataset,\n",
    "    compute_metrics=compute_metrics      # metrics to be computed\n",
    ")\n",
    "\n",
    "trainer2.evaluate(eval_dataset = test_dataset, metric_key_prefix='test')"
   ]
  },
  {
   "cell_type": "markdown",
   "id": "spiritual-buyer",
   "metadata": {},
   "source": [
    "## Hyper-parameter fine-tuning"
   ]
  },
  {
   "cell_type": "code",
   "execution_count": 13,
   "id": "going-spending",
   "metadata": {},
   "outputs": [
    {
     "data": {
      "text/plain": [
       "{'node_ip_address': '172.20.18.8',\n",
       " 'raylet_ip_address': '172.20.18.8',\n",
       " 'redis_address': '172.20.18.8:6379',\n",
       " 'object_store_address': '/tmp/ray/session_2022-02-23_16-41-56_571000_5688/sockets/plasma_store',\n",
       " 'raylet_socket_name': '/tmp/ray/session_2022-02-23_16-41-56_571000_5688/sockets/raylet',\n",
       " 'webui_url': None,\n",
       " 'session_dir': '/tmp/ray/session_2022-02-23_16-41-56_571000_5688',\n",
       " 'metrics_export_port': 59129,\n",
       " 'gcs_address': '172.20.18.8:34276',\n",
       " 'node_id': 'fd221d06df6eedbf7649a30b5eea321f2f3699a70b39a064b4c429fb'}"
      ]
     },
     "execution_count": 13,
     "metadata": {},
     "output_type": "execute_result"
    }
   ],
   "source": [
    "import ray\n",
    "# Transformers 4.4.0 works, but updating breaks ray\n",
    "from ray import tune\n",
    "from ray.tune import JupyterNotebookReporter \n",
    "from ray.tune.examples.pbt_transformers.utils import download_data, \\\n",
    "    build_compute_metrics_fn\n",
    "from ray.tune.schedulers import AsyncHyperBandScheduler, FIFOScheduler, PopulationBasedTraining\n",
    "\n",
    "RAY_RESULTS_PATH = '/scratch/group_simperl/ray_hyperparameter/'\n",
    "\n",
    "%matplotlib notebook\n",
    "\n",
    "import transformers\n",
    "\n",
    "transformers.logging.set_verbosity_error()\n",
    "\n",
    "ray.shutdown()\n",
    "ray.init(num_gpus=2, num_cpus=32)#, local_mode=True)"
   ]
  },
  {
   "cell_type": "code",
   "execution_count": 14,
   "id": "eb15ee36",
   "metadata": {},
   "outputs": [
    {
     "name": "stdout",
     "output_type": "stream",
     "text": [
      "E0223 16:42:14.438540300    6907 ev_epollex_linux.cc:515]    Error shutting down fd 85. errno: 9\r\n",
      "Wed Feb 23 16:42:14 2022       \r\n",
      "+-----------------------------------------------------------------------------+\r\n",
      "| NVIDIA-SMI 460.32.03    Driver Version: 460.32.03    CUDA Version: 11.2     |\r\n",
      "|-------------------------------+----------------------+----------------------+\r\n",
      "| GPU  Name        Persistence-M| Bus-Id        Disp.A | Volatile Uncorr. ECC |\r\n",
      "| Fan  Temp  Perf  Pwr:Usage/Cap|         Memory-Usage | GPU-Util  Compute M. |\r\n",
      "|                               |                      |               MIG M. |\r\n",
      "|===============================+======================+======================|\r\n",
      "|   0  GeForce RTX 3070    On   | 00000000:5E:00.0 Off |                  N/A |\r\n",
      "| 30%   28C    P8    18W / 220W |      3MiB /  7982MiB |      0%      Default |\r\n",
      "|                               |                      |                  N/A |\r\n",
      "+-------------------------------+----------------------+----------------------+\r\n",
      "|   1  GeForce RTX 3070    On   | 00000000:AF:00.0 Off |                  N/A |\r\n",
      "| 30%   27C    P8    20W / 220W |      3MiB /  7982MiB |      0%      Default |\r\n",
      "|                               |                      |                  N/A |\r\n",
      "+-------------------------------+----------------------+----------------------+\r\n",
      "                                                                               \r\n",
      "+-----------------------------------------------------------------------------+\r\n",
      "| Processes:                                                                  |\r\n",
      "|  GPU   GI   CI        PID   Type   Process name                  GPU Memory |\r\n",
      "|        ID   ID                                                   Usage      |\r\n",
      "|=============================================================================|\r\n",
      "|  No running processes found                                                 |\r\n",
      "+-----------------------------------------------------------------------------+\r\n"
     ]
    }
   ],
   "source": [
    "import gc\n",
    "gc.collect()\n",
    "torch.cuda.empty_cache()\n",
    "!nvidia-smi"
   ]
  },
  {
   "cell_type": "code",
   "execution_count": null,
   "id": "outdoor-citizenship",
   "metadata": {
    "scrolled": false
   },
   "outputs": [
    {
     "data": {
      "text/html": [
       "== Status ==<br>Current time: 2022-02-26 11:07:15 (running for 2 days, 18:24:38.09)<br>Memory usage on this node: 21.4/125.4 GiB<br>PopulationBasedTraining: 64 checkpoints, 34 perturbs<br>Resources requested: 24.0/32 CPUs, 2.0/2 GPUs, 0.0/74.95 GiB heap, 0.0/36.11 GiB objects (0.0/1.0 accelerator_type:RTX)<br>Current best trial: 9b739_00007 with eval_f1=0.7655150699822121 and parameters={'weight_decay': 0.009802147073712204, 'learning_rate': 6.926963053972543e-06, 'per_device_train_batch_size': 19, 'num_train_epochs': 2, 'seed': 42, 'warmup_ratio': 0.1}<br>Result logdir: /scratch/group_simperl/ray_hyperparameter/7_Using_BERT_on_FEVER_with_Trainer_3_Classes_DATASET_V2_HYPER/ray_results/support_detection<br>Number of trials: 20/20 (13 PAUSED, 1 PENDING, 2 RUNNING, 4 TERMINATED)<br><table>\n",
       "<thead>\n",
       "<tr><th>Trial name            </th><th>status    </th><th>loc             </th><th style=\"text-align: right;\">   w_decay</th><th style=\"text-align: right;\">         lr</th><th style=\"text-align: right;\">  train_bs/gpu</th><th style=\"text-align: right;\">  num_train_epochs</th><th style=\"text-align: right;\">  seed</th><th style=\"text-align: right;\">  warmup_ratio</th><th style=\"text-align: right;\">  eval_f1</th><th style=\"text-align: right;\">  eval_loss</th><th style=\"text-align: right;\">  epoch</th><th style=\"text-align: right;\">  training_iteration</th></tr>\n",
       "</thead>\n",
       "<tbody>\n",
       "<tr><td>_objective_9b739_00008</td><td>RUNNING   </td><td>172.20.18.8:6083</td><td style=\"text-align: right;\">0.00941006</td><td style=\"text-align: right;\">9.97483e-06</td><td style=\"text-align: right;\">            12</td><td style=\"text-align: right;\">                 2</td><td style=\"text-align: right;\">    42</td><td style=\"text-align: right;\">           0.1</td><td style=\"text-align: right;\"> 0.741442</td><td style=\"text-align: right;\">   0.652112</td><td style=\"text-align: right;\">   0.67</td><td style=\"text-align: right;\">                   9</td></tr>\n",
       "<tr><td>_objective_9b739_00010</td><td>RUNNING   </td><td>172.20.18.8:6073</td><td style=\"text-align: right;\">0.01      </td><td style=\"text-align: right;\">1.08234e-05</td><td style=\"text-align: right;\">             8</td><td style=\"text-align: right;\">                 2</td><td style=\"text-align: right;\">    42</td><td style=\"text-align: right;\">           0.1</td><td style=\"text-align: right;\"> 0.73785 </td><td style=\"text-align: right;\">   0.69685 </td><td style=\"text-align: right;\">   0.4 </td><td style=\"text-align: right;\">                   8</td></tr>\n",
       "<tr><td>_objective_9b739_00000</td><td>PAUSED    </td><td>172.20.18.8:6083</td><td style=\"text-align: right;\">0.00784172</td><td style=\"text-align: right;\">8.31236e-06</td><td style=\"text-align: right;\">            12</td><td style=\"text-align: right;\">                 2</td><td style=\"text-align: right;\">    42</td><td style=\"text-align: right;\">           0.1</td><td style=\"text-align: right;\"> 0.761937</td><td style=\"text-align: right;\">   0.677154</td><td style=\"text-align: right;\">   1.35</td><td style=\"text-align: right;\">                  18</td></tr>\n",
       "<tr><td>_objective_9b739_00001</td><td>PAUSED    </td><td>172.20.18.8:6073</td><td style=\"text-align: right;\">0.00816846</td><td style=\"text-align: right;\">8.6587e-06 </td><td style=\"text-align: right;\">            16</td><td style=\"text-align: right;\">                 2</td><td style=\"text-align: right;\">    42</td><td style=\"text-align: right;\">           0.1</td><td style=\"text-align: right;\"> 0.760095</td><td style=\"text-align: right;\">   0.66518 </td><td style=\"text-align: right;\">   1.8 </td><td style=\"text-align: right;\">                  18</td></tr>\n",
       "<tr><td>_objective_9b739_00002</td><td>PAUSED    </td><td>172.20.18.8:6083</td><td style=\"text-align: right;\">0.00784172</td><td style=\"text-align: right;\">8.31236e-06</td><td style=\"text-align: right;\">            15</td><td style=\"text-align: right;\">                 2</td><td style=\"text-align: right;\">    42</td><td style=\"text-align: right;\">           0.1</td><td style=\"text-align: right;\"> 0.759466</td><td style=\"text-align: right;\">   0.66451 </td><td style=\"text-align: right;\">   1.69</td><td style=\"text-align: right;\">                  18</td></tr>\n",
       "<tr><td>_objective_9b739_00003</td><td>PAUSED    </td><td>172.20.18.8:6073</td><td style=\"text-align: right;\">0.00980215</td><td style=\"text-align: right;\">6.92696e-06</td><td style=\"text-align: right;\">            12</td><td style=\"text-align: right;\">                 2</td><td style=\"text-align: right;\">    42</td><td style=\"text-align: right;\">           0.1</td><td style=\"text-align: right;\"> 0.762669</td><td style=\"text-align: right;\">   0.664532</td><td style=\"text-align: right;\">   1.35</td><td style=\"text-align: right;\">                  18</td></tr>\n",
       "<tr><td>_objective_9b739_00004</td><td>PAUSED    </td><td>172.20.18.8:6083</td><td style=\"text-align: right;\">0.00123851</td><td style=\"text-align: right;\">8.31236e-06</td><td style=\"text-align: right;\">            16</td><td style=\"text-align: right;\">                 2</td><td style=\"text-align: right;\">    42</td><td style=\"text-align: right;\">           0.1</td><td style=\"text-align: right;\"> 0.747785</td><td style=\"text-align: right;\">   0.699346</td><td style=\"text-align: right;\">   0.9 </td><td style=\"text-align: right;\">                  18</td></tr>\n",
       "<tr><td>_objective_9b739_00012</td><td>PAUSED    </td><td>172.20.18.8:6073</td><td style=\"text-align: right;\">0.00653476</td><td style=\"text-align: right;\">6.92696e-06</td><td style=\"text-align: right;\">            12</td><td style=\"text-align: right;\">                 2</td><td style=\"text-align: right;\">    42</td><td style=\"text-align: right;\">           0.1</td><td style=\"text-align: right;\"> 0.753852</td><td style=\"text-align: right;\">   0.680073</td><td style=\"text-align: right;\">   1.2 </td><td style=\"text-align: right;\">                  16</td></tr>\n",
       "<tr><td>_objective_9b739_00013</td><td>PAUSED    </td><td>172.20.18.8:6083</td><td style=\"text-align: right;\">0.01      </td><td style=\"text-align: right;\">1.84936e-05</td><td style=\"text-align: right;\">            16</td><td style=\"text-align: right;\">                 2</td><td style=\"text-align: right;\">    42</td><td style=\"text-align: right;\">           0.1</td><td style=\"text-align: right;\"> 0.755624</td><td style=\"text-align: right;\">   0.665799</td><td style=\"text-align: right;\">   0.8 </td><td style=\"text-align: right;\">                  16</td></tr>\n",
       "<tr><td>_objective_9b739_00014</td><td>PAUSED    </td><td>172.20.18.8:6073</td><td style=\"text-align: right;\">0.00784172</td><td style=\"text-align: right;\">1.24685e-05</td><td style=\"text-align: right;\">            12</td><td style=\"text-align: right;\">                 2</td><td style=\"text-align: right;\">    42</td><td style=\"text-align: right;\">           0.1</td><td style=\"text-align: right;\"> 0.753858</td><td style=\"text-align: right;\">   0.713433</td><td style=\"text-align: right;\">   1.2 </td><td style=\"text-align: right;\">                  16</td></tr>\n",
       "<tr><td>_objective_9b739_00015</td><td>PAUSED    </td><td>172.20.18.8:6083</td><td style=\"text-align: right;\">0.00980215</td><td style=\"text-align: right;\">1.03904e-05</td><td style=\"text-align: right;\">            16</td><td style=\"text-align: right;\">                 2</td><td style=\"text-align: right;\">    42</td><td style=\"text-align: right;\">           0.1</td><td style=\"text-align: right;\"> 0.76401 </td><td style=\"text-align: right;\">   0.649246</td><td style=\"text-align: right;\">   1.6 </td><td style=\"text-align: right;\">                  16</td></tr>\n",
       "<tr><td>_objective_9b739_00016</td><td>PAUSED    </td><td>172.20.18.8:6083</td><td style=\"text-align: right;\">0.00460756</td><td style=\"text-align: right;\">1.55911e-05</td><td style=\"text-align: right;\">            10</td><td style=\"text-align: right;\">                 2</td><td style=\"text-align: right;\">    42</td><td style=\"text-align: right;\">           0.1</td><td style=\"text-align: right;\"> 0.762138</td><td style=\"text-align: right;\">   0.640857</td><td style=\"text-align: right;\">   1   </td><td style=\"text-align: right;\">                  16</td></tr>\n",
       "<tr><td>_objective_9b739_00017</td><td>PAUSED    </td><td>172.20.18.8:6073</td><td style=\"text-align: right;\">0.00653476</td><td style=\"text-align: right;\">1.03904e-05</td><td style=\"text-align: right;\">            12</td><td style=\"text-align: right;\">                 2</td><td style=\"text-align: right;\">    42</td><td style=\"text-align: right;\">           0.1</td><td style=\"text-align: right;\"> 0.745658</td><td style=\"text-align: right;\">   0.680706</td><td style=\"text-align: right;\">   0.9 </td><td style=\"text-align: right;\">                  16</td></tr>\n",
       "<tr><td>_objective_9b739_00018</td><td>PAUSED    </td><td>172.20.18.8:6083</td><td style=\"text-align: right;\">0.00980215</td><td style=\"text-align: right;\">1.03904e-05</td><td style=\"text-align: right;\">            19</td><td style=\"text-align: right;\">                 2</td><td style=\"text-align: right;\">    42</td><td style=\"text-align: right;\">           0.1</td><td style=\"text-align: right;\"> 0.764049</td><td style=\"text-align: right;\">   0.639256</td><td style=\"text-align: right;\">   1.9 </td><td style=\"text-align: right;\">                  16</td></tr>\n",
       "<tr><td>_objective_9b739_00019</td><td>PAUSED    </td><td>172.20.18.8:6073</td><td style=\"text-align: right;\">0.00980215</td><td style=\"text-align: right;\">5.82001e-06</td><td style=\"text-align: right;\">             4</td><td style=\"text-align: right;\">                 2</td><td style=\"text-align: right;\">    42</td><td style=\"text-align: right;\">           0.1</td><td style=\"text-align: right;\"> 0.74695 </td><td style=\"text-align: right;\">   0.672923</td><td style=\"text-align: right;\">   0.9 </td><td style=\"text-align: right;\">                  16</td></tr>\n",
       "<tr><td>_objective_9b739_00011</td><td>PENDING   </td><td>172.20.18.8:6083</td><td style=\"text-align: right;\">0.00627337</td><td style=\"text-align: right;\">6.64988e-06</td><td style=\"text-align: right;\">            12</td><td style=\"text-align: right;\">                 2</td><td style=\"text-align: right;\">    42</td><td style=\"text-align: right;\">           0.1</td><td style=\"text-align: right;\"> 0.747259</td><td style=\"text-align: right;\">   0.694081</td><td style=\"text-align: right;\">   0.9 </td><td style=\"text-align: right;\">                  16</td></tr>\n",
       "<tr><td>_objective_9b739_00005</td><td>TERMINATED</td><td>172.20.18.8:6073</td><td style=\"text-align: right;\">0.00784172</td><td style=\"text-align: right;\">1.24685e-05</td><td style=\"text-align: right;\">            22</td><td style=\"text-align: right;\">                 2</td><td style=\"text-align: right;\">    42</td><td style=\"text-align: right;\">           0.1</td><td style=\"text-align: right;\"> 0.758692</td><td style=\"text-align: right;\">   0.655081</td><td style=\"text-align: right;\">   1.92</td><td style=\"text-align: right;\">                  14</td></tr>\n",
       "<tr><td>_objective_9b739_00006</td><td>TERMINATED</td><td>172.20.18.8:6073</td><td style=\"text-align: right;\">0.0229411 </td><td style=\"text-align: right;\">5.54157e-06</td><td style=\"text-align: right;\">            22</td><td style=\"text-align: right;\">                 2</td><td style=\"text-align: right;\">    42</td><td style=\"text-align: right;\">           0.1</td><td style=\"text-align: right;\"> 0.753843</td><td style=\"text-align: right;\">   0.643913</td><td style=\"text-align: right;\">   1.92</td><td style=\"text-align: right;\">                  14</td></tr>\n",
       "<tr><td>_objective_9b739_00007</td><td>TERMINATED</td><td>172.20.18.8:6083</td><td style=\"text-align: right;\">0.00980215</td><td style=\"text-align: right;\">6.92696e-06</td><td style=\"text-align: right;\">            19</td><td style=\"text-align: right;\">                 2</td><td style=\"text-align: right;\">    42</td><td style=\"text-align: right;\">           0.1</td><td style=\"text-align: right;\"> 0.765515</td><td style=\"text-align: right;\">   0.627134</td><td style=\"text-align: right;\">   1.9 </td><td style=\"text-align: right;\">                  16</td></tr>\n",
       "<tr><td>_objective_9b739_00009</td><td>TERMINATED</td><td>172.20.18.8:6083</td><td style=\"text-align: right;\">0.00784172</td><td style=\"text-align: right;\">5.54157e-06</td><td style=\"text-align: right;\">            22</td><td style=\"text-align: right;\">                 2</td><td style=\"text-align: right;\">    42</td><td style=\"text-align: right;\">           0.1</td><td style=\"text-align: right;\"> 0.753628</td><td style=\"text-align: right;\">   0.645182</td><td style=\"text-align: right;\">   1.92</td><td style=\"text-align: right;\">                  14</td></tr>\n",
       "</tbody>\n",
       "</table><br><br>"
      ],
      "text/plain": [
       "<IPython.core.display.HTML object>"
      ]
     },
     "metadata": {},
     "output_type": "display_data"
    },
    {
     "name": "stderr",
     "output_type": "stream",
     "text": [
      "\u001b[2m\u001b[36m(_objective pid=6083)\u001b[0m Be aware, overflowing tokens are not returned for the setting you have chosen, i.e. sequence pairs with the 'longest_first' truncation strategy. So the returned list will always be empty even if some tokens have been removed.\n",
      "\u001b[2m\u001b[36m(_objective pid=6083)\u001b[0m Be aware, overflowing tokens are not returned for the setting you have chosen, i.e. sequence pairs with the 'longest_first' truncation strategy. So the returned list will always be empty even if some tokens have been removed.\n"
     ]
    }
   ],
   "source": [
    "SEED = 42\n",
    "\n",
    "def model_init():\n",
    "    #transformers.logging.set_verbosity_error()\n",
    "    #gc.collect()\n",
    "    torch.cuda.empty_cache()\n",
    "    random.seed(SEED)\n",
    "    torch.manual_seed(SEED)\n",
    "    np.random.seed(SEED)\n",
    "    return BertForSequenceClassification.from_pretrained(MODEL_NAME, num_labels = 3).to(DEVICE)\n",
    "\n",
    "train_batch_size = 16\n",
    "testing_hyper = False\n",
    "n_training_steps_per_epoch = np.ceil(len(train_dataset)/train_batch_size)\n",
    "\n",
    "training_args = TrainingArguments(\n",
    "    output_dir = RAY_RESULTS_PATH + '7_Using_BERT_on_FEVER_with_Trainer_3_Classes_DATASET_V2_HYPER/',\n",
    "    num_train_epochs=2,\n",
    "    evaluation_strategy=\"steps\",\n",
    "    save_strategy=\"steps\",\n",
    "    eval_steps=int(n_training_steps_per_epoch//10),\n",
    "    save_steps=int(n_training_steps_per_epoch//10),\n",
    "    save_total_limit=1,              # limit the total amount of checkpoints. Deletes the older checkpoints. \n",
    "    dataloader_pin_memory=False,\n",
    "    load_best_model_at_end=True,\n",
    "    metric_for_best_model='f1',\n",
    "    do_eval=True,\n",
    "    disable_tqdm = True,\n",
    "    max_steps = 1 if testing_hyper else -1,\n",
    ")\n",
    "\n",
    "trainer = Trainer(\n",
    "    model_init=model_init,\n",
    "    args=training_args,\n",
    "    train_dataset=train_dataset,\n",
    "    eval_dataset=dev_dataset,\n",
    "    compute_metrics=compute_metrics      # metrics to be computed\n",
    ")\n",
    "\n",
    "tune_config = {\n",
    "    \"per_device_eval_batch_size\": 32,\n",
    "    \"per_device_train_batch_size\": tune.grid_search([8, 16]),\n",
    "    \"learning_rate\": tune.uniform(1e-5, 5e-5),\n",
    "    \"weight_decay\": 0.01,\n",
    "    \"num_train_epochs\": 2,#tune.choice([2, 3, 4])\n",
    "    \"warmup_ratio\": 0.1,#tune.loguniform(1e-4, 10),#0.1,\n",
    "    \"eval_steps\" : tune.sample_from(lambda spec: int(len(train_dataset)/spec.config.per_device_train_batch_size/20)),\n",
    "    \"save_steps\" : tune.sample_from(lambda spec: int(len(train_dataset)/spec.config.per_device_train_batch_size/20)),\n",
    "    \"seed\": SEED,\n",
    "}\n",
    "\n",
    "schedulerPBT = PopulationBasedTraining(\n",
    "    time_attr=\"training_iteration\",\n",
    "    metric=\"eval_f1\",\n",
    "    mode=\"max\",\n",
    "    perturbation_interval=2,\n",
    "    hyperparam_mutations={\n",
    "        \"weight_decay\": tune.loguniform(1e-3, 1e-1),\n",
    "        \"learning_rate\": tune.loguniform(1e-6, 1e-4),\n",
    "        \"per_device_train_batch_size\": tune.choice([4, 8, 16]),\n",
    "    })\n",
    "\n",
    "#schedulerASHA = AsyncHyperBandScheduler(\n",
    "#        time_attr=\"training_iteration\",\n",
    "#        metric=\"eval_f1\",\n",
    "#        mode=\"max\",\n",
    "#        grace_period=1,\n",
    "#        max_t=20 #\n",
    "#)\n",
    "#\n",
    "#schedulerFIFO = FIFOScheduler()\n",
    "\n",
    "\n",
    "reporter = JupyterNotebookReporter (\n",
    "    overwrite = True,\n",
    "    parameter_columns={\n",
    "        \"weight_decay\": \"w_decay\",\n",
    "        \"learning_rate\": \"lr\",\n",
    "        \"per_device_train_batch_size\": \"train_bs/gpu\",\n",
    "        \"num_train_epochs\": \"num_train_epochs\",\n",
    "        \"seed\":\"seed\",\n",
    "        \"warmup_ratio\":\"warmup_ratio\",\n",
    "    },\n",
    "    metric_columns=[\n",
    "        \"eval_f1\", \"eval_loss\", \"epoch\", \"training_iteration\"\n",
    "    ],\n",
    "    metric = 'eval_f1',\n",
    "    #max_report_frequency  = 1,\n",
    "    mode='max',\n",
    "    #print_intermediate_tables =True\n",
    ")\n",
    "\n",
    "\n",
    "best_run = trainer.hyperparameter_search(\n",
    "    hp_space=lambda _: tune_config,\n",
    "    backend=\"ray\",\n",
    "    n_trials=10,\n",
    "    scheduler=schedulerPBT,\n",
    "    #keep_checkpoints_num=1,\n",
    "    resources_per_trial={\n",
    "        \"cpu\": 12,\n",
    "        \"gpu\": 1\n",
    "    },\n",
    "    checkpoint_score_attr=\"eval_f1\",\n",
    "    reuse_actors=True,\n",
    "    #compute_objective='eval_f1',\n",
    "    #stop=None,\n",
    "    direction='maximize',\n",
    "    progress_reporter=reporter,\n",
    "    local_dir= RAY_RESULTS_PATH + \"7_Using_BERT_on_FEVER_with_Trainer_3_Classes_DATASET_V2_HYPER/ray_results/\",\n",
    "    name=\"support_detection\",\n",
    "    #log_to_file=True\n",
    ")"
   ]
  },
  {
   "cell_type": "code",
   "execution_count": null,
   "id": "5f1e21d0",
   "metadata": {},
   "outputs": [],
   "source": [
    "best_run"
   ]
  },
  {
   "cell_type": "markdown",
   "id": "3138cd58",
   "metadata": {},
   "source": [
    "# Comparing runs"
   ]
  },
  {
   "cell_type": "code",
   "execution_count": 16,
   "id": "realistic-introduction",
   "metadata": {},
   "outputs": [],
   "source": [
    "def test_from_checkpoint(ckp_dir, dataset=test_dataset, prefix='test'):\n",
    "\n",
    "    model_best = BertForSequenceClassification.from_pretrained(\n",
    "        ckp_dir\n",
    "    ).to(DEVICE)\n",
    "\n",
    "    training_args = TrainingArguments(\n",
    "        output_dir= RAY_RESULTS_PATH + \"7_Using_BERT_on_FEVER_with_Trainer_3_Classes_DATASET_V2_HYPER/test_results/\",\n",
    "        per_device_eval_batch_size=32,\n",
    "        dataloader_pin_memory=False,\n",
    "    )\n",
    "\n",
    "    trainer = Trainer(\n",
    "        model=model_best,\n",
    "        args=training_args,\n",
    "        train_dataset=train_dataset,\n",
    "        eval_dataset=dev_dataset,\n",
    "        compute_metrics=compute_metrics      # metrics to be computed\n",
    "    )\n",
    "\n",
    "    results = trainer.evaluate(eval_dataset = dataset, metric_key_prefix=prefix)\n",
    "    \n",
    "    return results"
   ]
  },
  {
   "cell_type": "code",
   "execution_count": 27,
   "id": "chemical-cooking",
   "metadata": {
    "scrolled": true
   },
   "outputs": [
    {
     "name": "stdout",
     "output_type": "stream",
     "text": [
      "Testing 00019\r"
     ]
    }
   ],
   "source": [
    "from os import listdir\n",
    "from os.path import isfile, join\n",
    "import glob\n",
    "import json\n",
    "transformers.logging.set_verbosity_error()\n",
    "from IPython.display import clear_output\n",
    "\n",
    "results = {}\n",
    "code='75175'\n",
    "ckp_path = RAY_RESULTS_PATH + '7_Using_BERT_on_FEVER_with_Trainer_3_Classes_DATASET_V2_HYPER/run-' + code + '_{}'\n",
    "param_path = RAY_RESULTS_PATH + \\\n",
    "    '7_Using_BERT_on_FEVER_with_Trainer_3_Classes_DATASET_V2_HYPER/ray_results/support_detection/_objective_' + code + '_{}'\n",
    "\n",
    "for i in range(0,20):\n",
    "    clear_output(wait=True)\n",
    "    idx = str(i).rjust(5,'0')\n",
    "    print('Testing',idx, end='\\r')\n",
    "    ckp_path_idx = ckp_path.format(idx)\n",
    "    try:\n",
    "        ckp_dir = listdir(ckp_path_idx)[0]\n",
    "    except FileNotFoundError:\n",
    "         continue\n",
    "    ckp_dir = join(ckp_path_idx,ckp_dir)\n",
    "    results[idx] = test_from_checkpoint(ckp_dir)\n",
    "    results[idx].update(test_from_checkpoint(ckp_dir, dataset=dev_dataset, prefix='eval'))\n",
    "    \n",
    "    param_path_idx = param_path.format(idx)\n",
    "    print(param_path_idx)\n",
    "    param_dir = glob.glob(param_path_idx+'_*')[0]\n",
    "    with open(str(join(param_dir,'params.json')),'r') as f:\n",
    "        params = json.load(f)\n",
    "    results[idx].update(params)"
   ]
  },
  {
   "cell_type": "code",
   "execution_count": 41,
   "id": "eabdbd4a",
   "metadata": {},
   "outputs": [
    {
     "data": {
      "text/html": [
       "<div>\n",
       "<style scoped>\n",
       "    .dataframe tbody tr th:only-of-type {\n",
       "        vertical-align: middle;\n",
       "    }\n",
       "\n",
       "    .dataframe tbody tr th {\n",
       "        vertical-align: top;\n",
       "    }\n",
       "\n",
       "    .dataframe thead th {\n",
       "        text-align: right;\n",
       "    }\n",
       "</style>\n",
       "<table border=\"1\" class=\"dataframe\">\n",
       "  <thead>\n",
       "    <tr style=\"text-align: right;\">\n",
       "      <th></th>\n",
       "      <th>test_accuracy</th>\n",
       "      <th>test_f1</th>\n",
       "      <th>eval_accuracy</th>\n",
       "      <th>eval_f1</th>\n",
       "      <th>learning_rate</th>\n",
       "      <th>num_train_epochs</th>\n",
       "      <th>per_device_train_batch_size</th>\n",
       "      <th>warmup_ratio</th>\n",
       "      <th>weight_decay</th>\n",
       "    </tr>\n",
       "  </thead>\n",
       "  <tbody>\n",
       "    <tr>\n",
       "      <th>00004</th>\n",
       "      <td>0.763513</td>\n",
       "      <td>0.766116</td>\n",
       "      <td>0.761182</td>\n",
       "      <td>0.764011</td>\n",
       "      <td>0.000034</td>\n",
       "      <td>2</td>\n",
       "      <td>8</td>\n",
       "      <td>0.1</td>\n",
       "      <td>0.01</td>\n",
       "    </tr>\n",
       "    <tr>\n",
       "      <th>00000</th>\n",
       "      <td>0.759410</td>\n",
       "      <td>0.762486</td>\n",
       "      <td>0.758903</td>\n",
       "      <td>0.761772</td>\n",
       "      <td>0.000025</td>\n",
       "      <td>2</td>\n",
       "      <td>8</td>\n",
       "      <td>0.1</td>\n",
       "      <td>0.01</td>\n",
       "    </tr>\n",
       "    <tr>\n",
       "      <th>00006</th>\n",
       "      <td>0.758463</td>\n",
       "      <td>0.760574</td>\n",
       "      <td>0.755915</td>\n",
       "      <td>0.758073</td>\n",
       "      <td>0.000043</td>\n",
       "      <td>2</td>\n",
       "      <td>8</td>\n",
       "      <td>0.1</td>\n",
       "      <td>0.01</td>\n",
       "    </tr>\n",
       "    <tr>\n",
       "      <th>00012</th>\n",
       "      <td>0.715774</td>\n",
       "      <td>0.717749</td>\n",
       "      <td>0.705133</td>\n",
       "      <td>0.706713</td>\n",
       "      <td>0.000028</td>\n",
       "      <td>2</td>\n",
       "      <td>8</td>\n",
       "      <td>0.1</td>\n",
       "      <td>0.01</td>\n",
       "    </tr>\n",
       "    <tr>\n",
       "      <th>00014</th>\n",
       "      <td>0.708909</td>\n",
       "      <td>0.711513</td>\n",
       "      <td>0.705369</td>\n",
       "      <td>0.707105</td>\n",
       "      <td>0.000034</td>\n",
       "      <td>2</td>\n",
       "      <td>8</td>\n",
       "      <td>0.1</td>\n",
       "      <td>0.01</td>\n",
       "    </tr>\n",
       "    <tr>\n",
       "      <th>00010</th>\n",
       "      <td>0.708988</td>\n",
       "      <td>0.710678</td>\n",
       "      <td>0.698766</td>\n",
       "      <td>0.700332</td>\n",
       "      <td>0.000034</td>\n",
       "      <td>2</td>\n",
       "      <td>8</td>\n",
       "      <td>0.1</td>\n",
       "      <td>0.01</td>\n",
       "    </tr>\n",
       "    <tr>\n",
       "      <th>00017</th>\n",
       "      <td>0.689182</td>\n",
       "      <td>0.688821</td>\n",
       "      <td>0.682336</td>\n",
       "      <td>0.681910</td>\n",
       "      <td>0.000048</td>\n",
       "      <td>2</td>\n",
       "      <td>16</td>\n",
       "      <td>0.1</td>\n",
       "      <td>0.01</td>\n",
       "    </tr>\n",
       "  </tbody>\n",
       "</table>\n",
       "</div>"
      ],
      "text/plain": [
       "       test_accuracy   test_f1  eval_accuracy   eval_f1  learning_rate  \\\n",
       "00004       0.763513  0.766116       0.761182  0.764011       0.000034   \n",
       "00000       0.759410  0.762486       0.758903  0.761772       0.000025   \n",
       "00006       0.758463  0.760574       0.755915  0.758073       0.000043   \n",
       "00012       0.715774  0.717749       0.705133  0.706713       0.000028   \n",
       "00014       0.708909  0.711513       0.705369  0.707105       0.000034   \n",
       "00010       0.708988  0.710678       0.698766  0.700332       0.000034   \n",
       "00017       0.689182  0.688821       0.682336  0.681910       0.000048   \n",
       "\n",
       "       num_train_epochs  per_device_train_batch_size  warmup_ratio  \\\n",
       "00004                 2                            8           0.1   \n",
       "00000                 2                            8           0.1   \n",
       "00006                 2                            8           0.1   \n",
       "00012                 2                            8           0.1   \n",
       "00014                 2                            8           0.1   \n",
       "00010                 2                            8           0.1   \n",
       "00017                 2                           16           0.1   \n",
       "\n",
       "       weight_decay  \n",
       "00004          0.01  \n",
       "00000          0.01  \n",
       "00006          0.01  \n",
       "00012          0.01  \n",
       "00014          0.01  \n",
       "00010          0.01  \n",
       "00017          0.01  "
      ]
     },
     "execution_count": 41,
     "metadata": {},
     "output_type": "execute_result"
    }
   ],
   "source": [
    "import pandas as pd\n",
    "results_df = pd.DataFrame(results.values(), index=results.keys())\n",
    "results_df[\n",
    "    ['test_accuracy','test_f1','eval_accuracy','eval_f1','learning_rate','num_train_epochs','per_device_train_batch_size','warmup_ratio','weight_decay']\n",
    "].sort_values('test_f1', ascending=False)"
   ]
  },
  {
   "cell_type": "code",
   "execution_count": 56,
   "id": "3c0cbc9b",
   "metadata": {
    "scrolled": true
   },
   "outputs": [
    {
     "name": "stderr",
     "output_type": "stream",
     "text": [
      "Configuration saved in ./models/BERT_FEVER_v4_model_ASHA/config.json\n",
      "Model weights saved in ./models/BERT_FEVER_v4_model_ASHA/pytorch_model.bin\n",
      "tokenizer config file saved in ./models/BERT_FEVER_v4_tok_ASHA/tokenizer_config.json\n",
      "Special tokens file saved in ./models/BERT_FEVER_v4_tok_ASHA/special_tokens_map.json\n"
     ]
    },
    {
     "data": {
      "text/plain": [
       "('./models/BERT_FEVER_v4_tok_ASHA/tokenizer_config.json',\n",
       " './models/BERT_FEVER_v4_tok_ASHA/special_tokens_map.json',\n",
       " './models/BERT_FEVER_v4_tok_ASHA/vocab.txt',\n",
       " './models/BERT_FEVER_v4_tok_ASHA/added_tokens.json')"
      ]
     },
     "execution_count": 56,
     "metadata": {},
     "output_type": "execute_result"
    }
   ],
   "source": [
    "best_id_on_test_set = results_df.test_f1.sort_values(ascending=False).index[0]\n",
    "ckp_path = RAY_RESULTS_PATH + '7_Using_BERT_on_FEVER_with_Trainer_3_Classes_DATASET_V2_HYPER/run-' + code + '_{}'\n",
    "ckp_path_idx = ckp_path.format(best_id_on_test_set)\n",
    "ckp_dir = listdir(ckp_path_idx)[0]\n",
    "ckp_dir = join(ckp_path_idx,ckp_dir)\n",
    "\n",
    "model_best = BertForSequenceClassification.from_pretrained(\n",
    "        ckp_dir\n",
    ").to(DEVICE)\n",
    "\n",
    "clear_output(wait=True)\n",
    "\n",
    "model_best.save_pretrained('./models/BERT_FEVER_v4_model_ASHA')\n",
    "tokenizer.save_pretrained('./models/BERT_FEVER_v4_tok_ASHA')"
   ]
  },
  {
   "cell_type": "code",
   "execution_count": 57,
   "id": "delayed-provider",
   "metadata": {
    "scrolled": false
   },
   "outputs": [
    {
     "data": {
      "image/png": "[encoded data removed]",
      "text/plain": [
       "<Figure size 720x720 with 4 Axes>"
      ]
     },
     "metadata": {
      "needs_background": "light"
     },
     "output_type": "display_data"
    }
   ],
   "source": [
    "import seaborn as sns\n",
    "import matplotlib.pyplot as plt\n",
    "%matplotlib inline\n",
    "\n",
    "save_path = f'./run/hyperparameter_tuning/ASHA_{code}'\n",
    "\n",
    "fig, ax = plt.subplots(2,2, figsize=(10,10),sharey=True)\n",
    "\n",
    "sns.regplot(data=results_df, x='learning_rate', y='test_f1',ax=ax[0][0])\n",
    "sns.regplot(data=results_df, x='learning_rate', y='eval_f1',ax=ax[0][1])\n",
    "ax[0][0].set(xscale=\"log\")\n",
    "ax[0][1].set(xscale=\"log\")\n",
    "\n",
    "sns.boxplot(data=results_df, ax=ax[1][0], x='per_device_train_batch_size',y='test_f1')\n",
    "sns.boxplot(data=results_df, ax=ax[1][1], x='per_device_train_batch_size',y='eval_f1')\n",
    "\n",
    "results_df.to_csv(save_path + '.csv')\n",
    "plt.savefig(save_path + '.png')"
   ]
  }
 ],
 "metadata": {
  "kernelspec": {
   "display_name": "Python 3 (ipykernel)",
   "language": "python",
   "name": "python3"
  },
  "language_info": {
   "codemirror_mode": {
    "name": "ipython",
    "version": 3
   },
   "file_extension": ".py",
   "mimetype": "text/x-python",
   "name": "python",
   "nbconvert_exporter": "python",
   "pygments_lexer": "ipython3",
   "version": "3.9.7"
  }
 },
 "nbformat": 4,
 "nbformat_minor": 5
}
