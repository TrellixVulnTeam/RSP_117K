{
 "cells": [
  {
   "cell_type": "markdown",
   "metadata": {},
   "source": [
    "# Loading data"
   ]
  },
  {
   "cell_type": "markdown",
   "metadata": {},
   "source": [
    "This notebook serves to prepare the data from Fever to be used to train and test a textual entailment model.\n",
    "The idea is to have, for each claim in fear, a decoded list of all evidence (decoded from wikidata dump ID and sentence ID into natural language sentences), and a label between Supported, Refuted, and Not Enough Info.\n",
    "\n",
    "First, we will load the natural data, exactly as it comes from the FEVER challenge, into a dataset of dataframes"
   ]
  },
  {
   "cell_type": "code",
   "execution_count": 137,
   "metadata": {},
   "outputs": [],
   "source": [
    "from datasets import load_dataset, Features, Value\n",
    "\n",
    "features = Features(\n",
    "{\n",
    "    'id': Value('int64'),\n",
    "    'verifiable': Value('string'),\n",
    "    'label': Value('string'),\n",
    "    'claim': Value('string'),\n",
    "    'evidence': Value('string'),\n",
    "})\n",
    "\n",
    "FILENAMES = ['shared_task_dev','train','shared_task_test']"
   ]
  },
  {
   "cell_type": "code",
   "execution_count": 29,
   "metadata": {},
   "outputs": [
    {
     "data": {
      "text/plain": [
       "DatasetDict({\n",
       "    shared_task_dev: Dataset({\n",
       "        features: ['id', 'verifiable', 'label', 'claim', 'evidence'],\n",
       "        num_rows: 19998\n",
       "    })\n",
       "    train: Dataset({\n",
       "        features: ['id', 'verifiable', 'label', 'claim', 'evidence'],\n",
       "        num_rows: 145449\n",
       "    })\n",
       "    shared_task_test: Dataset({\n",
       "        features: ['id', 'claim'],\n",
       "        num_rows: 19998\n",
       "    })\n",
       "})"
      ]
     },
     "execution_count": 29,
     "metadata": {},
     "output_type": "execute_result"
    }
   ],
   "source": [
    "from pandas import read_json\n",
    "from datasets import Dataset\n",
    "from datasets import DatasetDict\n",
    "\n",
    "dataset_dict = {}\n",
    "for filename in FILENAMES:\n",
    "    df = read_json(f'/home/k20036346/sharedscratch/fever/fever_jsonl/{filename}.jsonl', lines=True)\n",
    "    if 'evidence' in df.columns:\n",
    "        df['evidence'] = df['evidence'].astype(str)\n",
    "              \n",
    "    dataset_dict[filename] = Dataset.from_pandas(\n",
    "        df,\n",
    "        features=Features({column: features[column] for column in df.columns})\n",
    "    )\n",
    "    \n",
    "data = DatasetDict(dataset_dict)\n",
    "data"
   ]
  },
  {
   "cell_type": "code",
   "execution_count": 36,
   "metadata": {},
   "outputs": [],
   "source": [
    "# Here we'll create a numeric version of the labels\n",
    "\n",
    "LABELS = ['SUPPORTS', 'REFUTES', 'NOT ENOUGH INFO']\n",
    "def label_to_numeric(row):\n",
    "    if 'label' in row:\n",
    "        return {'label_numeric': LABELS.index(row['label'])}\n",
    "    return {'label_numeric': -1}\n",
    "    #    if row['label'] == 'SUPPORTS':\n",
    "    #        return {'label_numeric': 1}\n",
    "    #    elif row['label'] == 'REFUTES':\n",
    "    #        return {'label_numeric': 0}\n",
    "    #    else:\n",
    "    #        return {'label_numeric': 2}\n",
    "        \n",
    "def filter_verifiable(row):\n",
    "    if 'verifiable' in row and row['verifiable'] == 'VERIFIABLE':\n",
    "        return True\n",
    "    else:\n",
    "        return False"
   ]
  },
  {
   "cell_type": "code",
   "execution_count": 37,
   "metadata": {},
   "outputs": [
    {
     "data": {
      "application/vnd.jupyter.widget-view+json": {
       "model_id": "efae51a285e84081aef6acfc14cca17e",
       "version_major": 2,
       "version_minor": 0
      },
      "text/plain": [
       "0ex [00:00, ?ex/s]"
      ]
     },
     "metadata": {},
     "output_type": "display_data"
    },
    {
     "data": {
      "application/vnd.jupyter.widget-view+json": {
       "model_id": "d6866d525da3456191b2c2fc81b61d45",
       "version_major": 2,
       "version_minor": 0
      },
      "text/plain": [
       "0ex [00:00, ?ex/s]"
      ]
     },
     "metadata": {},
     "output_type": "display_data"
    },
    {
     "data": {
      "application/vnd.jupyter.widget-view+json": {
       "model_id": "9de91594142a44ceb4ab38499550983b",
       "version_major": 2,
       "version_minor": 0
      },
      "text/plain": [
       "0ex [00:00, ?ex/s]"
      ]
     },
     "metadata": {},
     "output_type": "display_data"
    }
   ],
   "source": [
    "data = data.map(label_to_numeric)#.filter(filter_verifiable)"
   ]
  },
  {
   "cell_type": "code",
   "execution_count": 38,
   "metadata": {},
   "outputs": [
    {
     "data": {
      "text/plain": [
       "DatasetDict({\n",
       "    shared_task_dev: Dataset({\n",
       "        features: ['id', 'verifiable', 'label', 'claim', 'evidence', 'label_numeric'],\n",
       "        num_rows: 19998\n",
       "    })\n",
       "    train: Dataset({\n",
       "        features: ['id', 'verifiable', 'label', 'claim', 'evidence', 'label_numeric'],\n",
       "        num_rows: 145449\n",
       "    })\n",
       "    shared_task_test: Dataset({\n",
       "        features: ['id', 'claim', 'label_numeric'],\n",
       "        num_rows: 19998\n",
       "    })\n",
       "})"
      ]
     },
     "execution_count": 38,
     "metadata": {},
     "output_type": "execute_result"
    }
   ],
   "source": [
    "data"
   ]
  },
  {
   "cell_type": "markdown",
   "metadata": {},
   "source": [
    "# Getting supporting sentences"
   ]
  },
  {
   "cell_type": "markdown",
   "metadata": {},
   "source": [
    "As can be seen in the cells below, the evidence in these datasets is not coded as written text sentences, but as a tuple (see https://fever.ai/2018/task.html).\n",
    "\n",
    "An evidence set is a list of [Annotation ID, Evidence ID, Wikipedia URL, sentence ID] tuples (or a [Annotation ID, Evidence ID, null, null] tuple if the label is NOT ENOUGH INFO).\n",
    "\n",
    "The Annotation ID and Evidence ID fields are for FEVER's internal use only and are not used for scoring. They may help debug or correct annotation issues by FEVER's authors and **do not matter for us**.\n",
    "\n",
    "Wikipedia URL and sentence ID are how we find the text. This is based on a June 2017 dump made available by FEVER at https://fever.ai/dataset/fever.html. The dumps consist of multiple JSON objects, each corresponding to a Wikipedia page from June 2007. Each has the following format:\n",
    "- id: The page's title, like 1951_Baylor_Bears_football_team or Don_Kendell\n",
    "- text: The whole page's text (or at least what was capturable, idk)\n",
    "- lines: The same as in text, but split into lines. Each line entry consists of a number (line number), a tab (\\t), the line, and an endline (\\n).\n",
    "\n",
    "Here, we will use the Wikipedia URL (same as wikipedia page id) and the sentence ID (same as line number) to transform the evidence set tuples into natural language sentences by querying the wikipedia page dumps from June 2017."
   ]
  },
  {
   "cell_type": "markdown",
   "metadata": {},
   "source": [
    "## Encoding issues\n",
    "We noticed a decoding issue with the data from fever. From the jsonl files, the evidence is retrieved and stored into a dataframe as a string instead of as a list of lists. To revert this, we use ast.literal_eval. However, the data is then generated encoded using NFKD.\n",
    "\n",
    "However, it seems like in the wikipages dumps, they are encoded using NFC."
   ]
  },
  {
   "cell_type": "code",
   "execution_count": 49,
   "metadata": {},
   "outputs": [
    {
     "data": {
      "text/plain": [
       "b'Simo\\xcc\\x81n_Boli\\xcc\\x81var'"
      ]
     },
     "execution_count": 49,
     "metadata": {},
     "output_type": "execute_result"
    }
   ],
   "source": [
    "# ast.literal_eval seems to encode using NFKD\n",
    "import ast\n",
    "ast.literal_eval(data['shared_task_dev'][26]['evidence'])[0][0][2].encode('utf-8')"
   ]
  },
  {
   "cell_type": "code",
   "execution_count": 52,
   "metadata": {},
   "outputs": [
    {
     "data": {
      "text/plain": [
       "(b'Sim\\xc3\\xb3n_Bol\\xc3\\xadvar', b'Simo\\xcc\\x81n_Boli\\xcc\\x81var')"
      ]
     },
     "execution_count": 52,
     "metadata": {},
     "output_type": "execute_result"
    }
   ],
   "source": [
    "# These two seem the same but have different encoding, and doing a == b returns False\n",
    "# The second one comes from ast.literal_eval, but the first comes straight from the wiki files, which uses NFC\n",
    "'Simón_Bolívar'.encode('utf-8'),'Simón_Bolívar'.encode('utf-8')"
   ]
  },
  {
   "cell_type": "code",
   "execution_count": 69,
   "metadata": {},
   "outputs": [
    {
     "data": {
      "text/plain": [
       "(b'Sim\\xc3\\xb3n_Bol\\xc3\\xadvar', b'Sim\\xc3\\xb3n_Bol\\xc3\\xadvar')"
      ]
     },
     "execution_count": 69,
     "metadata": {},
     "output_type": "execute_result"
    }
   ],
   "source": [
    "# We fix this by encoding all with NFC\n",
    "import unicodedata\n",
    "unicodedata.normalize('NFC','Simón_Bolívar').encode('utf-8'), unicodedata.normalize('NFC','Simón_Bolívar').encode('utf-8')"
   ]
  },
  {
   "cell_type": "markdown",
   "metadata": {},
   "source": [
    "## Using a file index\n",
    "\n",
    "This sucks and is very slow"
   ]
  },
  {
   "cell_type": "raw",
   "metadata": {},
   "source": [
    "import pickle\n",
    "#import json\n",
    "from pandas import read_json\n",
    "update_index = True\n",
    "index_location = './data/wiki_index.p'\n",
    "\n",
    "if update_index:\n",
    "    wiki_index = {}\n",
    "    for i in range(109):\n",
    "        index = str(i+1).rjust(3, '0')\n",
    "        df = read_json('/home/k20036346/sharedscratch/fever/wiki-pages/wiki-%s.jsonl' % index, lines=True, encoding='utf-8')\n",
    "        wiki_index[index] = list(df['id'])\n",
    "        #del df\n",
    "\n",
    "    with open(index_location,'+wb') as f:\n",
    "        pickle.dump(wiki_index,f,protocol=pickle.HIGHEST_PROTOCOL)\n",
    "else:\n",
    "    with open(index_location, 'rb') as f:\n",
    "        wiki_index = pickle.load(f)"
   ]
  },
  {
   "cell_type": "raw",
   "metadata": {},
   "source": [
    "import ast\n",
    "import unicodedata\n",
    "def get_sentence(row, ix):\n",
    "    #print(row)\n",
    "    try:\n",
    "        evidences = ast.literal_eval(row['evidence'])\n",
    "        if len(evidences) >= 1 and len(evidences[0]) >= 1 and evidences[0][0][2] == None:\n",
    "            return {'sentences': [], 'first_sentence': 'REPLACE_WITH_RANDOM'}\n",
    "        sentences = []\n",
    "        for evidence_set in evidences:\n",
    "            sentence_set = []\n",
    "            for evidence in evidence_set:\n",
    "                #print(evidence)\n",
    "                for i in range(109):\n",
    "                    index = str(i+1).rjust(3, '0')\n",
    "                    # Gotta normalise evidence[2] with NFC, because that is how the wiki files were encoded,\n",
    "                    # and literal_eval uses NFKD \n",
    "                    if unicodedata.normalize('NFC',evidence[2]) in wiki_index[index]:\n",
    "                        #print(index)\n",
    "                        df = read_json('/home/k20036346/sharedscratch/fever/wiki-pages/wiki-%s.jsonl' % index, lines=True, encoding='utf-8')\n",
    "                        lines = df[df['id'] == unicodedata.normalize('NFC',evidence[2])]['lines'].values[0]\n",
    "                        lines_parsed = [line.split('\\t', 1)[1] for line in lines.split('\\n')]\n",
    "                        sentence_set.append(lines_parsed[evidence[3]])\n",
    "            sentences.append(sentence_set)\n",
    "        return {'sentences':sentences,'first_sentence':sentences[0][0]}\n",
    "    except Exception as e:\n",
    "        print(e)\n",
    "        print(ix)\n",
    "        print(row)\n",
    "        print(sentences)\n",
    "        raise\n",
    "        \n",
    "print(get_sentence(data['shared_task_dev'][17],17))\n",
    "print(get_sentence(data['shared_task_dev'][23],23))"
   ]
  },
  {
   "cell_type": "markdown",
   "metadata": {},
   "source": [
    "## Using an indexed database (much faster)\n",
    "Run the 0.5_Wikipedia_fever_corpus_to_sql.ipynb before!"
   ]
  },
  {
   "cell_type": "code",
   "execution_count": 79,
   "metadata": {},
   "outputs": [],
   "source": [
    "import sqlite3\n",
    "class WikiPagesDB():\n",
    "    def __init__(self, path='/home/k20036346/sharedscratch/fever/wikipedia_processed.db'):\n",
    "        self.db = sqlite3.connect(path)\n",
    "        self.cursor = self.db.cursor()\n",
    "        self.cursor.execute('select count(*) from pages')\n",
    "        self.size = self.cursor.fetchall()[0][0]\n",
    "        \n",
    "    def get_lines_by_id(self, identifier):\n",
    "        self.cursor.execute(\n",
    "            '''SELECT lines\n",
    "            FROM pages \n",
    "            WHERE id = ?\n",
    "            ''', [identifier]\n",
    "        )\n",
    "        return self.cursor.fetchall()[0][0]\n",
    "    \n",
    "    def get_lines_by_row_number(self, row_n):\n",
    "        self.cursor.execute(\n",
    "            ''' SELECT lines\n",
    "            FROM pages\n",
    "            WHERE rowid = ?\n",
    "            ''', [row_n]\n",
    "        )\n",
    "        return self.cursor.fetchall()[0][0]\n",
    "    \n",
    "wikidb = WikiPagesDB()"
   ]
  },
  {
   "cell_type": "code",
   "execution_count": 115,
   "metadata": {},
   "outputs": [
    {
     "name": "stdout",
     "output_type": "stream",
     "text": [
      "{'id': 166626, 'verifiable': 'NOT VERIFIABLE', 'label': 'NOT ENOUGH INFO', 'claim': 'Anne Rice was born in New Jersey.', 'evidence': '[[[191656, None, None, None], [191657, None, None, None]]]', 'label_numeric': 2}\n",
      "|||\n",
      "{'sentences': [['The ENI or electronic neutron initiator -LRB- generator -RRB- was Blue Stone .\\tBlue Stone\\tBlue Stone (neutron initiator)']], 'first_sentence': 'The ENI or electronic neutron initiator -LRB- generator -RRB- was Blue Stone .\\tBlue Stone\\tBlue Stone (neutron initiator)'}\n",
      "---\n",
      "{'id': 167997, 'verifiable': 'NOT VERIFIABLE', 'label': 'NOT ENOUGH INFO', 'claim': 'Don Bradman retired from soccer.', 'evidence': '[[[193413, None, None, None]]]', 'label_numeric': 2}\n",
      "|||\n",
      "{'sentences': [['Tekoulo is a town and sub-prefecture in the Guéckédou Prefecture in the Nzérékoré Region of south-western Guinea .\\tRegion\\tRegions of Guinea\\tNzérékoré Region\\tNzérékoré Region\\tPrefecture\\tPrefectures of Guinea\\tGuéckédou Prefecture\\tGuéckédou Prefecture\\ttown\\ttown\\tsub-prefecture\\tSub-prefectures of Guinea\\t Nzérékoré Region\\t Nzérékoré Region\\tGuinea\\tGuinea']], 'first_sentence': 'Tekoulo is a town and sub-prefecture in the Guéckédou Prefecture in the Nzérékoré Region of south-western Guinea .\\tRegion\\tRegions of Guinea\\tNzérékoré Region\\tNzérékoré Region\\tPrefecture\\tPrefectures of Guinea\\tGuéckédou Prefecture\\tGuéckédou Prefecture\\ttown\\ttown\\tsub-prefecture\\tSub-prefectures of Guinea\\t Nzérékoré Region\\t Nzérékoré Region\\tGuinea\\tGuinea'}\n",
      "---\n",
      "{'id': 107786, 'verifiable': 'VERIFIABLE', 'label': 'SUPPORTS', 'claim': 'Ann Richards was professionally involved in politics.', 'evidence': \"[[[126507, 140905, 'Ann_Richards', 0]], [[126507, 140906, 'Ann_Richards', 1]], [[126507, 140907, 'Ann_Richards', 2]]]\", 'label_numeric': 0}\n",
      "|||\n",
      "{'sentences': [['Dorothy Ann Willis Richards -LRB- September 1 , 1933 -- September 13 , 2006 -RRB- was an American politician and the 45th Governor of Texas from 1991 to 1995 .\\t45th\\tList of Governors of Texas\\tGovernor of Texas\\tGovernor of Texas\\t45th Governor of Texas\\tList of Governors of Texas'], ['A Democrat , she first came to national attention as the state treasurer of Texas , when she delivered the keynote address at the 1988 Democratic National Convention .\\tDemocratic\\tDemocratic Party (United States)\\ttreasurer\\ttreasurer\\t1988 Democratic National Convention\\t1988 Democratic National Convention'], ['Richards served as the 45th Governor of Texas from 1991 to 1995 and was defeated for re-election in 1994 by George W. Bush .\\t45th\\tList of Governors of Texas\\tGovernor of Texas\\tGovernor of Texas\\tGeorge W. Bush\\tGeorge W. Bush\\t45th Governor of Texas\\tList of Governors of Texas']], 'first_sentence': 'Dorothy Ann Willis Richards -LRB- September 1 , 1933 -- September 13 , 2006 -RRB- was an American politician and the 45th Governor of Texas from 1991 to 1995 .\\t45th\\tList of Governors of Texas\\tGovernor of Texas\\tGovernor of Texas\\t45th Governor of Texas\\tList of Governors of Texas'}\n",
      "---\n",
      "{'id': 112935, 'verifiable': 'NOT VERIFIABLE', 'label': 'NOT ENOUGH INFO', 'claim': 'Juventus F.C. has worn a red-and-tan away uniform since 1903.', 'evidence': '[[[132499, None, None, None]]]', 'label_numeric': 2}\n",
      "|||\n",
      "{'sentences': [['Hoddles Creek is a bounded rural locality near Melbourne in Victoria , Australia .\\tMelbourne\\tMelbourne\\tVictoria\\tVictoria (Australia)\\tAustralia\\tAustralia']], 'first_sentence': 'Hoddles Creek is a bounded rural locality near Melbourne in Victoria , Australia .\\tMelbourne\\tMelbourne\\tVictoria\\tVictoria (Australia)\\tAustralia\\tAustralia'}\n",
      "---\n"
     ]
    }
   ],
   "source": [
    "import ast\n",
    "import random\n",
    "import unicodedata\n",
    "def get_sentence_sqlite(row, ix):\n",
    "    #print(row)\n",
    "    if 'evidence' not in row:\n",
    "        return None\n",
    "    try:\n",
    "        evidences = ast.literal_eval(row['evidence'])\n",
    "        sentences = []\n",
    "        for evidence_set in evidences:\n",
    "            sentence_set = []\n",
    "            for evidence in evidence_set:\n",
    "                if evidence[2] is None:\n",
    "                    continue\n",
    "                lines = wikidb.get_lines_by_id(unicodedata.normalize('NFC',evidence[2]))\n",
    "                assert type(lines) == str\n",
    "                lines_parsed = [line.split('\\t', 1)[1] for line in lines.split('\\n')]\n",
    "                assert lines_parsed[evidence[3]].strip != ''\n",
    "                sentence_set.append(lines_parsed[evidence[3]])\n",
    "            if len(sentence_set) > 0:\n",
    "                sentences.append(sentence_set)\n",
    "        if len(sentences) == 0:\n",
    "            # If there are no sentences, the label is NOT ENOUGH INFO\n",
    "            assert row['label'] == 'NOT ENOUGH INFO'\n",
    "            while True:\n",
    "                # If there are no lines we fill with a random set\n",
    "                # (I dont know why, lets see in the future if this gets used?)\n",
    "                random_row_id = random.randint(1,wikidb.size)\n",
    "                lines = wikidb.get_lines_by_row_number(random_row_id)\n",
    "                if lines.strip() != '': #Many entries in the DB have no text, perhaps for being mainly links/lists/tables\n",
    "                    break\n",
    "            lines_parsed = [line.split('\\t', 1)[1] for line in lines.split('\\n')]\n",
    "            lines_parsed_non_empty = [l for l in lines_parsed if l.strip() != '']\n",
    "            random_line_id = random.randint(0, len(lines_parsed_non_empty)-1)\n",
    "            random_line = lines_parsed_non_empty[random_line_id]\n",
    "            sentences.append([random_line]) #We just take a single line, really. I dont know why this is useful but\n",
    "            # Gabriel from a year ago did. Maybe he figured something better out because I dont see this being used\n",
    "            # going forward.\n",
    "        return {'sentences':sentences,'first_sentence':sentences[0][0]} #First sentence from first evidence set\n",
    "\n",
    "    except Exception as e:\n",
    "        print(e)\n",
    "        print(ix)\n",
    "        print(random_row_id,lines)\n",
    "        print(row)\n",
    "        #print(sentences)\n",
    "        raise\n",
    "\n",
    "test_ids = [3,17,23,447]\n",
    "for test_id in test_ids:\n",
    "    print(data['shared_task_dev'][test_id])\n",
    "    print('|||')\n",
    "    print(get_sentence_sqlite(data['shared_task_dev'][test_id],test_id))\n",
    "    print('---')"
   ]
  },
  {
   "cell_type": "code",
   "execution_count": 122,
   "metadata": {},
   "outputs": [
    {
     "data": {
      "application/vnd.jupyter.widget-view+json": {
       "model_id": "3182aa8b3da04daf972fce6894361c7a",
       "version_major": 2,
       "version_minor": 0
      },
      "text/plain": [
       "0ex [00:00, ?ex/s]"
      ]
     },
     "metadata": {},
     "output_type": "display_data"
    },
    {
     "data": {
      "application/vnd.jupyter.widget-view+json": {
       "model_id": "493d6d3245b64da38181f182ada840cb",
       "version_major": 2,
       "version_minor": 0
      },
      "text/plain": [
       "0ex [00:00, ?ex/s]"
      ]
     },
     "metadata": {},
     "output_type": "display_data"
    },
    {
     "data": {
      "application/vnd.jupyter.widget-view+json": {
       "model_id": "e38dc1b825af498d942ecca6e5bf8818",
       "version_major": 2,
       "version_minor": 0
      },
      "text/plain": [
       "0ex [00:00, ?ex/s]"
      ]
     },
     "metadata": {},
     "output_type": "display_data"
    }
   ],
   "source": [
    "data = data.map(get_sentence_sqlite, with_indices=True)"
   ]
  },
  {
   "cell_type": "code",
   "execution_count": 123,
   "metadata": {},
   "outputs": [
    {
     "data": {
      "text/plain": [
       "DatasetDict({\n",
       "    shared_task_dev: Dataset({\n",
       "        features: ['id', 'verifiable', 'label', 'claim', 'evidence', 'label_numeric', 'sentences', 'first_sentence'],\n",
       "        num_rows: 19998\n",
       "    })\n",
       "    train: Dataset({\n",
       "        features: ['id', 'verifiable', 'label', 'claim', 'evidence', 'label_numeric', 'sentences', 'first_sentence'],\n",
       "        num_rows: 145449\n",
       "    })\n",
       "    shared_task_test: Dataset({\n",
       "        features: ['id', 'claim', 'label_numeric'],\n",
       "        num_rows: 19998\n",
       "    })\n",
       "})"
      ]
     },
     "execution_count": 123,
     "metadata": {},
     "output_type": "execute_result"
    }
   ],
   "source": [
    "data"
   ]
  },
  {
   "cell_type": "code",
   "execution_count": 124,
   "metadata": {},
   "outputs": [],
   "source": [
    "import datasets\n",
    "import random\n",
    "import pandas as pd\n",
    "from IPython.display import display, HTML\n",
    "\n",
    "def show_random_elements(dataset, num_examples=10):\n",
    "    assert num_examples <= len(dataset), \"Can't pick more elements than there are in the dataset.\"\n",
    "    picks = []\n",
    "    for _ in range(num_examples):\n",
    "        pick = random.randint(0, len(dataset)-1)\n",
    "        while pick in picks:\n",
    "            pick = random.randint(0, len(dataset)-1)\n",
    "        picks.append(pick)\n",
    "    \n",
    "    df = pd.DataFrame(dataset[picks])\n",
    "    for column, typ in dataset.features.items():\n",
    "        if isinstance(typ, datasets.ClassLabel):\n",
    "            df[column] = df[column].transform(lambda i: typ.names[i])\n",
    "    display(HTML(df.to_html()))"
   ]
  },
  {
   "cell_type": "code",
   "execution_count": 125,
   "metadata": {
    "scrolled": false
   },
   "outputs": [
    {
     "data": {
      "text/html": [
       "<table border=\"1\" class=\"dataframe\">\n",
       "  <thead>\n",
       "    <tr style=\"text-align: right;\">\n",
       "      <th></th>\n",
       "      <th>id</th>\n",
       "      <th>verifiable</th>\n",
       "      <th>label</th>\n",
       "      <th>claim</th>\n",
       "      <th>evidence</th>\n",
       "      <th>label_numeric</th>\n",
       "      <th>sentences</th>\n",
       "      <th>first_sentence</th>\n",
       "    </tr>\n",
       "  </thead>\n",
       "  <tbody>\n",
       "    <tr>\n",
       "      <th>0</th>\n",
       "      <td>18120</td>\n",
       "      <td>VERIFIABLE</td>\n",
       "      <td>SUPPORTS</td>\n",
       "      <td>Red Headed Stranger had a strong cultural impact.</td>\n",
       "      <td>[[[33643, 40802, 'Red_Headed_Stranger', 21]]]</td>\n",
       "      <td>0</td>\n",
       "      <td>[[The album has had a strong cultural impact ; the song `` Time of the Preacher '' has been used often in the series Edge of Darkness , and its lyrics were used as well in the first issue of the comic Preacher .\\tEdge of Darkness\\tEdge of Darkness\\tPreacher\\tPreacher (comics)]]</td>\n",
       "      <td>The album has had a strong cultural impact ; the song `` Time of the Preacher '' has been used often in the series Edge of Darkness , and its lyrics were used as well in the first issue of the comic Preacher .\\tEdge of Darkness\\tEdge of Darkness\\tPreacher\\tPreacher (comics)</td>\n",
       "    </tr>\n",
       "    <tr>\n",
       "      <th>1</th>\n",
       "      <td>31608</td>\n",
       "      <td>VERIFIABLE</td>\n",
       "      <td>SUPPORTS</td>\n",
       "      <td>Curly Top was directed by a person.</td>\n",
       "      <td>[[[47740, 57010, 'Curly_Top_-LRB-film-RRB-', 0], [47740, 57010, 'Irving_Cummings', 0]]]</td>\n",
       "      <td>0</td>\n",
       "      <td>[[Curly Top -LRB- 1935 -RRB- is an American musical film directed by Irving Cummings .\\tIrving Cummings\\tIrving Cummings\\tmusical film\\tmusical film, Irving Camisky -LRB- October 9 , 1888 -- April 18 , 1959 -RRB- was an American movie actor , director , producer and writer .]]</td>\n",
       "      <td>Curly Top -LRB- 1935 -RRB- is an American musical film directed by Irving Cummings .\\tIrving Cummings\\tIrving Cummings\\tmusical film\\tmusical film</td>\n",
       "    </tr>\n",
       "    <tr>\n",
       "      <th>2</th>\n",
       "      <td>27945</td>\n",
       "      <td>NOT VERIFIABLE</td>\n",
       "      <td>NOT ENOUGH INFO</td>\n",
       "      <td>Donald Glover hated the album Because the Internet.</td>\n",
       "      <td>[[[44062, None, None, None]]]</td>\n",
       "      <td>2</td>\n",
       "      <td>[[At the 2006 census , its population was 208 , in 53 families .]]</td>\n",
       "      <td>At the 2006 census , its population was 208 , in 53 families .</td>\n",
       "    </tr>\n",
       "    <tr>\n",
       "      <th>3</th>\n",
       "      <td>169884</td>\n",
       "      <td>VERIFIABLE</td>\n",
       "      <td>SUPPORTS</td>\n",
       "      <td>Peyton Manning's name is Williams.</td>\n",
       "      <td>[[[195967, 206104, 'Peyton_Manning', 0]]]</td>\n",
       "      <td>0</td>\n",
       "      <td>[[Peyton Williams Manning -LRB- born March 24 , 1976 -RRB- is a former American football quarterback who played 18 seasons in the National Football League -LRB- NFL -RRB- , primarily with the Indianapolis Colts .\\tIndianapolis Colts\\tIndianapolis Colts\\tAmerican football\\tAmerican football\\tquarterback\\tquarterback\\tNational Football League\\tNational Football League]]</td>\n",
       "      <td>Peyton Williams Manning -LRB- born March 24 , 1976 -RRB- is a former American football quarterback who played 18 seasons in the National Football League -LRB- NFL -RRB- , primarily with the Indianapolis Colts .\\tIndianapolis Colts\\tIndianapolis Colts\\tAmerican football\\tAmerican football\\tquarterback\\tquarterback\\tNational Football League\\tNational Football League</td>\n",
       "    </tr>\n",
       "    <tr>\n",
       "      <th>4</th>\n",
       "      <td>58954</td>\n",
       "      <td>VERIFIABLE</td>\n",
       "      <td>REFUTES</td>\n",
       "      <td>Cry Freedom shot all their scenes in South Africa.</td>\n",
       "      <td>[[[75359, 86621, 'Cry_Freedom', 7]]]</td>\n",
       "      <td>1</td>\n",
       "      <td>[[The film was primarily shot on location in Zimbabwe and in Kenya due to political turmoil in South Africa at the time of production .\\tSouth Africa\\tSouth Africa\\tZimbabwe\\tZimbabwe\\tKenya\\tKenya]]</td>\n",
       "      <td>The film was primarily shot on location in Zimbabwe and in Kenya due to political turmoil in South Africa at the time of production .\\tSouth Africa\\tSouth Africa\\tZimbabwe\\tZimbabwe\\tKenya\\tKenya</td>\n",
       "    </tr>\n",
       "    <tr>\n",
       "      <th>5</th>\n",
       "      <td>44013</td>\n",
       "      <td>VERIFIABLE</td>\n",
       "      <td>SUPPORTS</td>\n",
       "      <td>Toy Story is a film.</td>\n",
       "      <td>[[[60346, 70726, 'Toy_Story', 0]], [[60346, 70727, 'Toy_Story', 1]], [[60346, 70728, 'Toy_Story', 6]], [[60346, 70729, 'Toy_Story', 12]], [[60346, 70730, 'Toy_Story', 15]], [[60346, 70731, 'Toy_Story', 16]], [[60346, 70732, 'Toy_Story', 17]], [[60346, 70733, 'Toy_Story', 19]]]</td>\n",
       "      <td>0</td>\n",
       "      <td>[[Toy Story is a 1995 American computer-animated buddy comedy adventure film produced by Pixar Animation Studios and released by Walt Disney Pictures .\\tWalt Disney Pictures\\tWalt Disney Pictures\\tPixar Animation Studios\\tPixar\\tcomputer-animated\\tComputer-generated imagery\\tbuddy\\tbuddy film\\tcomedy\\tcomedy film\\tadventure film\\tadventure film], [The directorial debut of John Lasseter , Toy Story was the first feature-length computer-animated film and the first theatrical film produced by Pixar .\\tJohn Lasseter\\tJohn Lasseter\\tcomputer-animated\\tComputer-generated imagery\\tdirectorial debut\\tList of directorial debuts], [The film features music by Randy Newman , and was executive-produced by Steve Jobs and Edwin Catmull .\\tRandy Newman\\tRandy Newman\\tSteve Jobs\\tSteve Jobs\\tEdwin Catmull\\tEdwin Catmull], [The studio , then consisting of a relatively small number of employees , produced the film under minor financial constraints .], [Released in theaters on November 22 , 1995 , Toy Story was the highest-grossing film on its opening weekend and earned over $ 373 million worldwide .], [The film was widely acclaimed by critics , who praised the animation 's technical innovation , the wit and thematic sophistication of the screenplay , and the performances of Hanks and Allen .], [It is now considered by many critics to be one of the best animated films ever made .\\tbest animated films ever made\\tList of films considered the best#Animation], [It was inducted into the National Film Registry as being `` culturally , historically , or aesthetically significant '' in 2005 , its first year of eligibility .\\tNational Film Registry\\tNational Film Registry]]</td>\n",
       "      <td>Toy Story is a 1995 American computer-animated buddy comedy adventure film produced by Pixar Animation Studios and released by Walt Disney Pictures .\\tWalt Disney Pictures\\tWalt Disney Pictures\\tPixar Animation Studios\\tPixar\\tcomputer-animated\\tComputer-generated imagery\\tbuddy\\tbuddy film\\tcomedy\\tcomedy film\\tadventure film\\tadventure film</td>\n",
       "    </tr>\n",
       "    <tr>\n",
       "      <th>6</th>\n",
       "      <td>28986</td>\n",
       "      <td>VERIFIABLE</td>\n",
       "      <td>REFUTES</td>\n",
       "      <td>Yung Rich Nation featured only Young Thug.</td>\n",
       "      <td>[[[46471, 55433, 'Yung_Rich_Nation', 2]]]</td>\n",
       "      <td>1</td>\n",
       "      <td>[[The album features guest appearances from Chris Brown and Young Thug , while the production was handled by Zaytoven , Honorable C.N.O.T.E. and Murda Beatz , among others .\\tMurda Beatz\\tMurda Beatz\\tZaytoven\\tZaytoven\\tChris Brown\\tChris Brown\\tYoung Thug\\tYoung Thug\\tproduction\\tHip hop production]]</td>\n",
       "      <td>The album features guest appearances from Chris Brown and Young Thug , while the production was handled by Zaytoven , Honorable C.N.O.T.E. and Murda Beatz , among others .\\tMurda Beatz\\tMurda Beatz\\tZaytoven\\tZaytoven\\tChris Brown\\tChris Brown\\tYoung Thug\\tYoung Thug\\tproduction\\tHip hop production</td>\n",
       "    </tr>\n",
       "    <tr>\n",
       "      <th>7</th>\n",
       "      <td>127393</td>\n",
       "      <td>VERIFIABLE</td>\n",
       "      <td>SUPPORTS</td>\n",
       "      <td>The Grammys nominated Nicki Minaj.</td>\n",
       "      <td>[[[149269, 164255, 'Nicki_Minaj', 17]]]</td>\n",
       "      <td>0</td>\n",
       "      <td>[[Minaj has received ten Grammy nominations throughout her career , and has won six American Music Awards , eleven BET Awards , three MTV Video Music Awards , four Billboard Music Awards , and was the recipient of Billboards Women in Music 2011 Rising Star award .\\tGrammy\\tGrammy Award\\tAmerican Music Awards\\tAmerican Music Awards\\tBET Awards\\tBET Awards]]</td>\n",
       "      <td>Minaj has received ten Grammy nominations throughout her career , and has won six American Music Awards , eleven BET Awards , three MTV Video Music Awards , four Billboard Music Awards , and was the recipient of Billboards Women in Music 2011 Rising Star award .\\tGrammy\\tGrammy Award\\tAmerican Music Awards\\tAmerican Music Awards\\tBET Awards\\tBET Awards</td>\n",
       "    </tr>\n",
       "    <tr>\n",
       "      <th>8</th>\n",
       "      <td>211614</td>\n",
       "      <td>VERIFIABLE</td>\n",
       "      <td>REFUTES</td>\n",
       "      <td>Gabourey Sidibe made her acting debut in a 2006 film.</td>\n",
       "      <td>[[[250774, 250754, 'Gabourey_Sidibe', 0]]]</td>\n",
       "      <td>1</td>\n",
       "      <td>[[Gabourey Sidibe -LRB- -LSB- ˈɡæbəˌreɪ_ˈsɪdɪˌbeɪ -RSB- ; born May 6 , 1983 -RRB- is an American actress who made her acting debut in the 2009 film Precious , a role that brought her a nomination for the Academy Award for Best Actress .\\tPrecious\\tPrecious (film)\\tAcademy Award for Best Actress\\tAcademy Award for Best Actress]]</td>\n",
       "      <td>Gabourey Sidibe -LRB- -LSB- ˈɡæbəˌreɪ_ˈsɪdɪˌbeɪ -RSB- ; born May 6 , 1983 -RRB- is an American actress who made her acting debut in the 2009 film Precious , a role that brought her a nomination for the Academy Award for Best Actress .\\tPrecious\\tPrecious (film)\\tAcademy Award for Best Actress\\tAcademy Award for Best Actress</td>\n",
       "    </tr>\n",
       "    <tr>\n",
       "      <th>9</th>\n",
       "      <td>134832</td>\n",
       "      <td>NOT VERIFIABLE</td>\n",
       "      <td>NOT ENOUGH INFO</td>\n",
       "      <td>Louis C.K. has won six Emmy awards as of 2013.</td>\n",
       "      <td>[[[157397, None, None, None]]]</td>\n",
       "      <td>2</td>\n",
       "      <td>[[Dr. Carlo Levi -LRB- -LSB- ˈkarlo ˈlɛːvi -RSB- -RRB- -LRB- November 29 , 1902 -- January 4 , 1975 -RRB- was an Italian-Jewish painter , writer , activist , anti-fascist , and doctor .\\tanti-fascist\\tanti-fascism]]</td>\n",
       "      <td>Dr. Carlo Levi -LRB- -LSB- ˈkarlo ˈlɛːvi -RSB- -RRB- -LRB- November 29 , 1902 -- January 4 , 1975 -RRB- was an Italian-Jewish painter , writer , activist , anti-fascist , and doctor .\\tanti-fascist\\tanti-fascism</td>\n",
       "    </tr>\n",
       "  </tbody>\n",
       "</table>"
      ],
      "text/plain": [
       "<IPython.core.display.HTML object>"
      ]
     },
     "metadata": {},
     "output_type": "display_data"
    }
   ],
   "source": [
    "show_random_elements(data[\"train\"])"
   ]
  },
  {
   "cell_type": "markdown",
   "metadata": {},
   "source": [
    "## Saving dataset for fine-tuning model"
   ]
  },
  {
   "cell_type": "code",
   "execution_count": 139,
   "metadata": {
    "scrolled": false
   },
   "outputs": [
    {
     "data": {
      "application/vnd.jupyter.widget-view+json": {
       "model_id": "aad0b87079124f4b86e4938295085abb",
       "version_major": 2,
       "version_minor": 0
      },
      "text/plain": [
       "Creating CSV from Arrow format:   0%|          | 0/2 [00:00<?, ?ba/s]"
      ]
     },
     "metadata": {},
     "output_type": "display_data"
    },
    {
     "data": {
      "application/vnd.jupyter.widget-view+json": {
       "model_id": "469325aa9f6847e7bf1e4b36f564b5c6",
       "version_major": 2,
       "version_minor": 0
      },
      "text/plain": [
       "Creating CSV from Arrow format:   0%|          | 0/15 [00:00<?, ?ba/s]"
      ]
     },
     "metadata": {},
     "output_type": "display_data"
    },
    {
     "data": {
      "application/vnd.jupyter.widget-view+json": {
       "model_id": "7468ab284b3c43c5a002bf7564e13d12",
       "version_major": 2,
       "version_minor": 0
      },
      "text/plain": [
       "Creating CSV from Arrow format:   0%|          | 0/2 [00:00<?, ?ba/s]"
      ]
     },
     "metadata": {},
     "output_type": "display_data"
    }
   ],
   "source": [
    "for filename in FILENAMES:\n",
    "    data[filename].to_csv(f'./data/{filename}_wikidecoded.csv', index=None, encoding='utf-8')"
   ]
  },
  {
   "cell_type": "code",
   "execution_count": 142,
   "metadata": {},
   "outputs": [],
   "source": [
    "from pandas import DataFrame\n",
    "df_train = DataFrame(data['train'])\n",
    "df_dev = DataFrame(data['shared_task_dev'])"
   ]
  },
  {
   "cell_type": "code",
   "execution_count": 147,
   "metadata": {
    "scrolled": true
   },
   "outputs": [
    {
     "data": {
      "text/html": [
       "<div>\n",
       "<style scoped>\n",
       "    .dataframe tbody tr th:only-of-type {\n",
       "        vertical-align: middle;\n",
       "    }\n",
       "\n",
       "    .dataframe tbody tr th {\n",
       "        vertical-align: top;\n",
       "    }\n",
       "\n",
       "    .dataframe thead th {\n",
       "        text-align: right;\n",
       "    }\n",
       "</style>\n",
       "<table border=\"1\" class=\"dataframe\">\n",
       "  <thead>\n",
       "    <tr style=\"text-align: right;\">\n",
       "      <th></th>\n",
       "      <th>id</th>\n",
       "      <th>verifiable</th>\n",
       "      <th>label</th>\n",
       "      <th>claim</th>\n",
       "      <th>evidence</th>\n",
       "      <th>label_numeric</th>\n",
       "      <th>sentences</th>\n",
       "      <th>first_sentence</th>\n",
       "    </tr>\n",
       "  </thead>\n",
       "  <tbody>\n",
       "    <tr>\n",
       "      <th>10795</th>\n",
       "      <td>216752</td>\n",
       "      <td>VERIFIABLE</td>\n",
       "      <td>SUPPORTS</td>\n",
       "      <td>Warren Beatty co-wrote Reds.</td>\n",
       "      <td>[[[257528, 256524, 'Reds_-LRB-film-RRB-', 0]], [[257535, 256531, 'Reds_-LRB-film-RRB-', 0]], [[257552, 256547, 'Reds_-LRB-film-RRB-', 0]]]</td>\n",
       "      <td>0</td>\n",
       "      <td>[[Reds is a 1981 American epic drama film co-written , produced and directed by Warren Beatty .\\tWarren Beatty\\tWarren Beatty\\tepic\\tEpic film\\tdrama film\\tDrama (film and television)], [Reds is a 1981 American epic drama film co-written , produced and directed by Warren Beatty .\\tWarren Beatty\\tWarren Beatty\\tepic\\tEpic film\\tdrama film\\tDrama (film and television)], [Reds is a 1981 American epic drama film co-written , produced and directed by Warren Beatty .\\tWarren Beatty\\tWarren Beatty\\tepic\\tEpic film\\tdrama film\\tDrama (film and television)]]</td>\n",
       "      <td>Reds is a 1981 American epic drama film co-written , produced and directed by Warren Beatty .\\tWarren Beatty\\tWarren Beatty\\tepic\\tEpic film\\tdrama film\\tDrama (film and television)</td>\n",
       "    </tr>\n",
       "    <tr>\n",
       "      <th>45757</th>\n",
       "      <td>57807</td>\n",
       "      <td>VERIFIABLE</td>\n",
       "      <td>SUPPORTS</td>\n",
       "      <td>Floyd Mayweather Jr. is a professional boxer.</td>\n",
       "      <td>[[[74147, 85375, 'Floyd_Mayweather_Jr.', 0]], [[74147, 85376, 'Floyd_Mayweather_Jr.', 1]]]</td>\n",
       "      <td>0</td>\n",
       "      <td>[[Floyd Joy Mayweather Jr. -LRB- born Floyd Joy Sinclair ; February 24 , 1977 -RRB- is an American former professional boxer who competed from 1996 to 2015 , and currently works as a boxing promoter .\\tprofessional boxer\\tprofessional boxer\\tpromoter\\tpromoter (entertainment)], [Widely considered to be one of the greatest boxers of all time , undefeated as a professional , and a five-division world champion , Mayweather won fifteen world titles and the lineal championship in four different weight classes -LRB- twice at welterweight -RRB- .\\tfive-division world champion\\tquintuple champion\\tlineal championship\\tlineal championship\\twelterweight\\twelterweight]]</td>\n",
       "      <td>Floyd Joy Mayweather Jr. -LRB- born Floyd Joy Sinclair ; February 24 , 1977 -RRB- is an American former professional boxer who competed from 1996 to 2015 , and currently works as a boxing promoter .\\tprofessional boxer\\tprofessional boxer\\tpromoter\\tpromoter (entertainment)</td>\n",
       "    </tr>\n",
       "    <tr>\n",
       "      <th>100294</th>\n",
       "      <td>142165</td>\n",
       "      <td>VERIFIABLE</td>\n",
       "      <td>SUPPORTS</td>\n",
       "      <td>Saturn is a planet in the Solar System.</td>\n",
       "      <td>[[[165224, 179348, 'Solar_System', 7], [165224, 179348, 'Saturn', 0]], [[165225, 179349, 'Solar_System', 7]], [[165225, 179350, 'Solar_System', 15]]]</td>\n",
       "      <td>0</td>\n",
       "      <td>[[Of the objects that orbit the Sun indirectly , the moons , two are larger than the smallest planet , Mercury.The two moons larger than Mercury are Ganymede , which orbits Jupiter , and Titan , which orbits Saturn .\\tSun\\tSun\\tMercury\\tMercury (planet)\\tJupiter\\tJupiter\\tSaturn\\tSaturn\\tplanet\\tplanet\\tmoons\\tNatural satellite\\tGanymede\\tGanymede (moon)\\tTitan\\tTitan (moon), Saturn is the sixth planet from the Sun and the second-largest in the Solar System , after Jupiter .\\tSaturn\\tSaturn (mythology)\\tSun\\tSun\\tplanet\\tplanet\\tSolar System\\tSolar System\\tJupiter\\tJupiter], [Of the objects that orbit the Sun indirectly , the moons , two are larger than the smallest planet , Mercury.The two moons larger than Mercury are Ganymede , which orbits Jupiter , and Titan , which orbits Saturn .\\tSun\\tSun\\tMercury\\tMercury (planet)\\tJupiter\\tJupiter\\tSaturn\\tSaturn\\tplanet\\tplanet\\tmoons\\tNatural satellite\\tGanymede\\tGanymede (moon)\\tTitan\\tTitan (moon)], [The two largest , Jupiter and Saturn , are gas giants , being composed mainly of hydrogen and helium ; the two outermost planets , Uranus and Neptune , are ice giants , being composed mostly of substances with relatively high melting points compared with hydrogen and helium , called volatiles , such as water , ammonia and methane .\\tJupiter\\tJupiter\\tSaturn\\tSaturn\\tUranus\\tUranus\\tNeptune\\tNeptune\\tplanets\\tList of gravitationally rounded objects of the Solar System#Planets\\thydrogen\\thydrogen\\thelium\\thelium\\tvolatiles\\tvolatiles\\tammonia\\tammonia\\tmethane\\tmethane]]</td>\n",
       "      <td>Of the objects that orbit the Sun indirectly , the moons , two are larger than the smallest planet , Mercury.The two moons larger than Mercury are Ganymede , which orbits Jupiter , and Titan , which orbits Saturn .\\tSun\\tSun\\tMercury\\tMercury (planet)\\tJupiter\\tJupiter\\tSaturn\\tSaturn\\tplanet\\tplanet\\tmoons\\tNatural satellite\\tGanymede\\tGanymede (moon)\\tTitan\\tTitan (moon)</td>\n",
       "    </tr>\n",
       "  </tbody>\n",
       "</table>\n",
       "</div>"
      ],
      "text/plain": [
       "            id  verifiable     label  \\\n",
       "10795   216752  VERIFIABLE  SUPPORTS   \n",
       "45757    57807  VERIFIABLE  SUPPORTS   \n",
       "100294  142165  VERIFIABLE  SUPPORTS   \n",
       "\n",
       "                                                claim  \\\n",
       "10795                    Warren Beatty co-wrote Reds.   \n",
       "45757   Floyd Mayweather Jr. is a professional boxer.   \n",
       "100294        Saturn is a planet in the Solar System.   \n",
       "\n",
       "                                                                                                                                                     evidence  \\\n",
       "10795              [[[257528, 256524, 'Reds_-LRB-film-RRB-', 0]], [[257535, 256531, 'Reds_-LRB-film-RRB-', 0]], [[257552, 256547, 'Reds_-LRB-film-RRB-', 0]]]   \n",
       "45757                                                              [[[74147, 85375, 'Floyd_Mayweather_Jr.', 0]], [[74147, 85376, 'Floyd_Mayweather_Jr.', 1]]]   \n",
       "100294  [[[165224, 179348, 'Solar_System', 7], [165224, 179348, 'Saturn', 0]], [[165225, 179349, 'Solar_System', 7]], [[165225, 179350, 'Solar_System', 15]]]   \n",
       "\n",
       "        label_numeric  \\\n",
       "10795               0   \n",
       "45757               0   \n",
       "100294              0   \n",
       "\n",
       "                                                                                                                                                                                                                                                                                                                                                                                                                                                                                                                                                                                                                                                                                                                                                                                                                                                                                                                                                                                                                                                                                                                                                                                                                                                                                                                                                                                                                                                                                                                                                                                                sentences  \\\n",
       "10795                                                                                                                                                                                                                                                                                                                                                                                                                                                                                                                                                                                                                                                                                                                                                                                                                                                                                                                                                                                                                         [[Reds is a 1981 American epic drama film co-written , produced and directed by Warren Beatty .\\tWarren Beatty\\tWarren Beatty\\tepic\\tEpic film\\tdrama film\\tDrama (film and television)], [Reds is a 1981 American epic drama film co-written , produced and directed by Warren Beatty .\\tWarren Beatty\\tWarren Beatty\\tepic\\tEpic film\\tdrama film\\tDrama (film and television)], [Reds is a 1981 American epic drama film co-written , produced and directed by Warren Beatty .\\tWarren Beatty\\tWarren Beatty\\tepic\\tEpic film\\tdrama film\\tDrama (film and television)]]   \n",
       "45757                                                                                                                                                                                                                                                                                                                                                                                                                                                                                                                                                                                                                                                                                                                                                                                                                                                                                                         [[Floyd Joy Mayweather Jr. -LRB- born Floyd Joy Sinclair ; February 24 , 1977 -RRB- is an American former professional boxer who competed from 1996 to 2015 , and currently works as a boxing promoter .\\tprofessional boxer\\tprofessional boxer\\tpromoter\\tpromoter (entertainment)], [Widely considered to be one of the greatest boxers of all time , undefeated as a professional , and a five-division world champion , Mayweather won fifteen world titles and the lineal championship in four different weight classes -LRB- twice at welterweight -RRB- .\\tfive-division world champion\\tquintuple champion\\tlineal championship\\tlineal championship\\twelterweight\\twelterweight]]   \n",
       "100294  [[Of the objects that orbit the Sun indirectly , the moons , two are larger than the smallest planet , Mercury.The two moons larger than Mercury are Ganymede , which orbits Jupiter , and Titan , which orbits Saturn .\\tSun\\tSun\\tMercury\\tMercury (planet)\\tJupiter\\tJupiter\\tSaturn\\tSaturn\\tplanet\\tplanet\\tmoons\\tNatural satellite\\tGanymede\\tGanymede (moon)\\tTitan\\tTitan (moon), Saturn is the sixth planet from the Sun and the second-largest in the Solar System , after Jupiter .\\tSaturn\\tSaturn (mythology)\\tSun\\tSun\\tplanet\\tplanet\\tSolar System\\tSolar System\\tJupiter\\tJupiter], [Of the objects that orbit the Sun indirectly , the moons , two are larger than the smallest planet , Mercury.The two moons larger than Mercury are Ganymede , which orbits Jupiter , and Titan , which orbits Saturn .\\tSun\\tSun\\tMercury\\tMercury (planet)\\tJupiter\\tJupiter\\tSaturn\\tSaturn\\tplanet\\tplanet\\tmoons\\tNatural satellite\\tGanymede\\tGanymede (moon)\\tTitan\\tTitan (moon)], [The two largest , Jupiter and Saturn , are gas giants , being composed mainly of hydrogen and helium ; the two outermost planets , Uranus and Neptune , are ice giants , being composed mostly of substances with relatively high melting points compared with hydrogen and helium , called volatiles , such as water , ammonia and methane .\\tJupiter\\tJupiter\\tSaturn\\tSaturn\\tUranus\\tUranus\\tNeptune\\tNeptune\\tplanets\\tList of gravitationally rounded objects of the Solar System#Planets\\thydrogen\\thydrogen\\thelium\\thelium\\tvolatiles\\tvolatiles\\tammonia\\tammonia\\tmethane\\tmethane]]   \n",
       "\n",
       "                                                                                                                                                                                                                                                                                                                                                                                 first_sentence  \n",
       "10795                                                                                                                                                                                                     Reds is a 1981 American epic drama film co-written , produced and directed by Warren Beatty .\\tWarren Beatty\\tWarren Beatty\\tepic\\tEpic film\\tdrama film\\tDrama (film and television)  \n",
       "45757                                                                                                        Floyd Joy Mayweather Jr. -LRB- born Floyd Joy Sinclair ; February 24 , 1977 -RRB- is an American former professional boxer who competed from 1996 to 2015 , and currently works as a boxing promoter .\\tprofessional boxer\\tprofessional boxer\\tpromoter\\tpromoter (entertainment)  \n",
       "100294  Of the objects that orbit the Sun indirectly , the moons , two are larger than the smallest planet , Mercury.The two moons larger than Mercury are Ganymede , which orbits Jupiter , and Titan , which orbits Saturn .\\tSun\\tSun\\tMercury\\tMercury (planet)\\tJupiter\\tJupiter\\tSaturn\\tSaturn\\tplanet\\tplanet\\tmoons\\tNatural satellite\\tGanymede\\tGanymede (moon)\\tTitan\\tTitan (moon)  "
      ]
     },
     "execution_count": 147,
     "metadata": {},
     "output_type": "execute_result"
    }
   ],
   "source": [
    "# Checking if they don't overlap\n",
    "# There are 3 overlapping claims, but their evidence sets are distinct!\n",
    "pd.set_option('display.max_colwidth', None)\n",
    "df_train[df_train[\"claim\"].isin(df_dev[\"claim\"])]"
   ]
  },
  {
   "cell_type": "code",
   "execution_count": 148,
   "metadata": {
    "scrolled": true
   },
   "outputs": [
    {
     "data": {
      "text/html": [
       "<div>\n",
       "<style scoped>\n",
       "    .dataframe tbody tr th:only-of-type {\n",
       "        vertical-align: middle;\n",
       "    }\n",
       "\n",
       "    .dataframe tbody tr th {\n",
       "        vertical-align: top;\n",
       "    }\n",
       "\n",
       "    .dataframe thead th {\n",
       "        text-align: right;\n",
       "    }\n",
       "</style>\n",
       "<table border=\"1\" class=\"dataframe\">\n",
       "  <thead>\n",
       "    <tr style=\"text-align: right;\">\n",
       "      <th></th>\n",
       "      <th>id</th>\n",
       "      <th>verifiable</th>\n",
       "      <th>label</th>\n",
       "      <th>claim</th>\n",
       "      <th>evidence</th>\n",
       "      <th>label_numeric</th>\n",
       "      <th>sentences</th>\n",
       "      <th>first_sentence</th>\n",
       "    </tr>\n",
       "  </thead>\n",
       "  <tbody>\n",
       "    <tr>\n",
       "      <th>8058</th>\n",
       "      <td>198218</td>\n",
       "      <td>VERIFIABLE</td>\n",
       "      <td>SUPPORTS</td>\n",
       "      <td>Saturn is a planet in the Solar System.</td>\n",
       "      <td>[[[233056, 236058, 'Saturn', 0]]]</td>\n",
       "      <td>0</td>\n",
       "      <td>[[Saturn is the sixth planet from the Sun and the second-largest in the Solar System , after Jupiter .\\tSaturn\\tSaturn (mythology)\\tSun\\tSun\\tplanet\\tplanet\\tSolar System\\tSolar System\\tJupiter\\tJupiter]]</td>\n",
       "      <td>Saturn is the sixth planet from the Sun and the second-largest in the Solar System , after Jupiter .\\tSaturn\\tSaturn (mythology)\\tSun\\tSun\\tplanet\\tplanet\\tSolar System\\tSolar System\\tJupiter\\tJupiter</td>\n",
       "    </tr>\n",
       "    <tr>\n",
       "      <th>10688</th>\n",
       "      <td>154383</td>\n",
       "      <td>VERIFIABLE</td>\n",
       "      <td>SUPPORTS</td>\n",
       "      <td>Warren Beatty co-wrote Reds.</td>\n",
       "      <td>[[[293532, 286037, 'Warren_Beatty', 2]], [[297406, 289064, 'Warren_Beatty', 2]], [[341783, 326077, 'Warren_Beatty', 2]], [[341784, 326078, 'Warren_Beatty', 2]]]</td>\n",
       "      <td>0</td>\n",
       "      <td>[[Beatty is the first and only person to have been twice nominated for acting in , directing , writing , and producing the same film -- first with Heaven Can Wait -LRB- 1978 -RRB- , which was co-written by Elaine May and co-directed by Buck Henry , and again with Reds , which he co-wrote with Trevor Griffiths .\\tReds\\tReds (film)\\tHeaven Can Wait\\tHeaven Can Wait (1978 film)\\tElaine May\\tElaine May\\tBuck Henry\\tBuck Henry\\tTrevor Griffiths\\tTrevor Griffiths], [Beatty is the first and only person to have been twice nominated for acting in , directing , writing , and producing the same film -- first with Heaven Can Wait -LRB- 1978 -RRB- , which was co-written by Elaine May and co-directed by Buck Henry , and again with Reds , which he co-wrote with Trevor Griffiths .\\tReds\\tReds (film)\\tHeaven Can Wait\\tHeaven Can Wait (1978 film)\\tElaine May\\tElaine May\\tBuck Henry\\tBuck Henry\\tTrevor Griffiths\\tTrevor Griffiths], [Beatty is the first and only person to have been twice nominated for acting in , directing , writing , and producing the same film -- first with Heaven Can Wait -LRB- 1978 -RRB- , which was co-written by Elaine May and co-directed by Buck Henry , and again with Reds , which he co-wrote with Trevor Griffiths .\\tReds\\tReds (film)\\tHeaven Can Wait\\tHeaven Can Wait (1978 film)\\tElaine May\\tElaine May\\tBuck Henry\\tBuck Henry\\tTrevor Griffiths\\tTrevor Griffiths], [Beatty is the first and only person to have been twice nominated for acting in , directing , writing , and producing the same film -- first with Heaven Can Wait -LRB- 1978 -RRB- , which was co-written by Elaine May and co-directed by Buck Henry , and again with Reds , which he co-wrote with Trevor Griffiths .\\tReds\\tReds (film)\\tHeaven Can Wait\\tHeaven Can Wait (1978 film)\\tElaine May\\tElaine May\\tBuck Henry\\tBuck Henry\\tTrevor Griffiths\\tTrevor Griffiths]]</td>\n",
       "      <td>Beatty is the first and only person to have been twice nominated for acting in , directing , writing , and producing the same film -- first with Heaven Can Wait -LRB- 1978 -RRB- , which was co-written by Elaine May and co-directed by Buck Henry , and again with Reds , which he co-wrote with Trevor Griffiths .\\tReds\\tReds (film)\\tHeaven Can Wait\\tHeaven Can Wait (1978 film)\\tElaine May\\tElaine May\\tBuck Henry\\tBuck Henry\\tTrevor Griffiths\\tTrevor Griffiths</td>\n",
       "    </tr>\n",
       "    <tr>\n",
       "      <th>17816</th>\n",
       "      <td>36399</td>\n",
       "      <td>VERIFIABLE</td>\n",
       "      <td>SUPPORTS</td>\n",
       "      <td>Floyd Mayweather Jr. is a professional boxer.</td>\n",
       "      <td>[[[105200, 118615, 'Floyd_Mayweather_Jr.', 0]], [[105200, 118616, 'Floyd_Mayweather_Jr.', 10]], [[108253, 121786, 'Floyd_Mayweather_Jr.', 0]], [[108253, 121787, 'Floyd_Mayweather_Jr.', 1]], [[108253, 121788, 'Floyd_Mayweather_Jr.', 3]], [[108253, 121789, 'Floyd_Mayweather_Jr.', 6]], [[108253, 121790, 'Floyd_Mayweather_Jr.', 9]], [[108253, 121791, 'Floyd_Mayweather_Jr.', 10]], [[110070, 123695, 'Floyd_Mayweather_Jr.', 0]], [[308093, 298563, 'Floyd_Mayweather_Jr.', 0]], [[308093, 298564, 'Floyd_Mayweather_Jr.', 1]], [[308093, 298565, 'Floyd_Mayweather_Jr.', 3]], [[308093, 298566, 'Floyd_Mayweather_Jr.', 6]], [[308093, 298567, 'Floyd_Mayweather_Jr.', 7]], [[308093, 298568, 'Floyd_Mayweather_Jr.', 8]], [[308093, 298569, 'Floyd_Mayweather_Jr.', 9]], [[308093, 298570, 'Floyd_Mayweather_Jr.', 10]], [[308093, 298571, 'Floyd_Mayweather_Jr.', 15]], [[309497, 299702, 'Floyd_Mayweather_Jr.', 0]], [[309497, 299703, 'Floyd_Mayweather_Jr.', 1]]]</td>\n",
       "      <td>0</td>\n",
       "      <td>[[Floyd Joy Mayweather Jr. -LRB- born Floyd Joy Sinclair ; February 24 , 1977 -RRB- is an American former professional boxer who competed from 1996 to 2015 , and currently works as a boxing promoter .\\tprofessional boxer\\tprofessional boxer\\tpromoter\\tpromoter (entertainment)], [He finished his career with a record of 26 wins without a loss or draw in world title fights -LRB- 10 by KO -RRB- ; 23 wins -LRB- 9 KOs -RRB- in lineal title fights ; 24 wins -LRB- 7 KOs -RRB- against former or current world titlists ; 12 wins -LRB- 3 KOs -RRB- against former or current lineal champions ; and 2 wins -LRB- 1 KO -RRB- against International Boxing Hall of Fame inductees .\\tKO\\tknockout\\tInternational Boxing Hall of Fame\\tInternational Boxing Hall of Fame], [Floyd Joy Mayweather Jr. -LRB- born Floyd Joy Sinclair ; February 24 , 1977 -RRB- is an American former professional boxer who competed from 1996 to 2015 , and currently works as a boxing promoter .\\tprofessional boxer\\tprofessional boxer\\tpromoter\\tpromoter (entertainment)], [Widely considered to be one of the greatest boxers of all time , undefeated as a professional , and a five-division world champion , Mayweather won fifteen world titles and the lineal championship in four different weight classes -LRB- twice at welterweight -RRB- .\\tfive-division world champion\\tquintuple champion\\tlineal championship\\tlineal championship\\twelterweight\\twelterweight], [Mayweather is a two-time winner of The Ring magazine 's Fighter of the Year award -LRB- 1998 and 2007 -RRB- , a three-time winner of the Boxing Writers Association of America -LRB- BWAA -RRB- Fighter of the Year award -LRB- 2007 , 2013 , and 2015 -RRB- , and a six-time winner of the Best Fighter ESPY Award -LRB- 2007 -- 2010 , 2012 -- 2014 -RRB- .\\tFighter of the Year\\tSugar Ray Robinson Award\\tBoxing Writers Association of America\\tBoxing Writers Association of America\\tBest Fighter ESPY Award\\tBest Fighter ESPY Award], [In 2016 , Mayweather was ranked by ESPN as the greatest boxer , pound for pound , of the last 25 years .\\tESPN\\tESPN\\tpound for pound\\tpound for pound], [He is also regarded as the best defensive boxer in the sport , as well as being the most accurate puncher since the existence of CompuBox , having the highest plus -- minus ratio in recorded boxing history .\\tCompuBox\\tCompuBox], [He finished his career with a record of 26 wins without a loss or draw in world title fights -LRB- 10 by KO -RRB- ; 23 wins -LRB- 9 KOs -RRB- in lineal title fights ; 24 wins -LRB- 7 KOs -RRB- against former or current world titlists ; 12 wins -LRB- 3 KOs -RRB- against former or current lineal champions ; and 2 wins -LRB- 1 KO -RRB- against International Boxing Hall of Fame inductees .\\tKO\\tknockout\\tInternational Boxing Hall of Fame\\tInternational Boxing Hall of Fame], [Floyd Joy Mayweather Jr. -LRB- born Floyd Joy Sinclair ; February 24 , 1977 -RRB- is an American former professional boxer who competed from 1996 to 2015 , and currently works as a boxing promoter .\\tprofessional boxer\\tprofessional boxer\\tpromoter\\tpromoter (entertainment)], [Floyd Joy Mayweather Jr. -LRB- born Floyd Joy Sinclair ; February 24 , 1977 -RRB- is an American former professional boxer who competed from 1996 to 2015 , and currently works as a boxing promoter .\\tprofessional boxer\\tprofessional boxer\\tpromoter\\tpromoter (entertainment)], [Widely considered to be one of the greatest boxers of all time , undefeated as a professional , and a five-division world champion , Mayweather won fifteen world titles and the lineal championship in four different weight classes -LRB- twice at welterweight -RRB- .\\tfive-division world champion\\tquintuple champion\\tlineal championship\\tlineal championship\\twelterweight\\twelterweight], [Mayweather is a two-time winner of The Ring magazine 's Fighter of the Year award -LRB- 1998 and 2007 -RRB- , a three-time winner of the Boxing Writers Association of America -LRB- BWAA -RRB- Fighter of the Year award -LRB- 2007 , 2013 , and 2015 -RRB- , and a six-time winner of the Best Fighter ESPY Award -LRB- 2007 -- 2010 , 2012 -- 2014 -RRB- .\\tFighter of the Year\\tSugar Ray Robinson Award\\tBoxing Writers Association of America\\tBoxing Writers Association of America\\tBest Fighter ESPY Award\\tBest Fighter ESPY Award], [In 2016 , Mayweather was ranked by ESPN as the greatest boxer , pound for pound , of the last 25 years .\\tESPN\\tESPN\\tpound for pound\\tpound for pound], [In the same year , he peaked as BoxRec 's number one fighter of all time , pound for pound , as well as the greatest welterweight of all time .\\twelterweight\\twelterweight\\tpound for pound\\tpound for pound\\tBoxRec\\tBoxRec], [Many sporting news and boxing websites ranked Mayweather as the best boxer in the world , pound for pound , twice in a span of ten years ; including The Ring , Sports Illustrated , ESPN , BoxRec , Fox Sports , and Yahoo! Sports .\\tESPN\\tESPN\\tpound for pound\\tpound for pound\\tBoxRec\\tBoxRec\\tSports Illustrated\\tSports Illustrated\\tFox Sports\\tFox Sports (United States)\\tYahoo! Sports\\tYahoo! Sports], [He is also regarded as the best defensive boxer in the sport , as well as being the most accurate puncher since the existence of CompuBox , having the highest plus -- minus ratio in recorded boxing history .\\tCompuBox\\tCompuBox], [He finished his career with a record of 26 wins without a loss or draw in world title fights -LRB- 10 by KO -RRB- ; 23 wins -LRB- 9 KOs -RRB- in lineal title fights ; 24 wins -LRB- 7 KOs -RRB- against former or current world titlists ; 12 wins -LRB- 3 KOs -RRB- against former or current lineal champions ; and 2 wins -LRB- 1 KO -RRB- against International Boxing Hall of Fame inductees .\\tKO\\tknockout\\tInternational Boxing Hall of Fame\\tInternational Boxing Hall of Fame], [In 2007 , he founded Mayweather Promotions , his own boxing promotional firm after defecting from Bob Arum 's Top Rank .\\tMayweather Promotions\\tMayweather Promotions\\tBob Arum\\tBob Arum\\tTop Rank\\tTop Rank], [Floyd Joy Mayweather Jr. -LRB- born Floyd Joy Sinclair ; February 24 , 1977 -RRB- is an American former professional boxer who competed from 1996 to 2015 , and currently works as a boxing promoter .\\tprofessional boxer\\tprofessional boxer\\tpromoter\\tpromoter (entertainment)], [Widely considered to be one of the greatest boxers of all time , undefeated as a professional , and a five-division world champion , Mayweather won fifteen world titles and the lineal championship in four different weight classes -LRB- twice at welterweight -RRB- .\\tfive-division world champion\\tquintuple champion\\tlineal championship\\tlineal championship\\twelterweight\\twelterweight]]</td>\n",
       "      <td>Floyd Joy Mayweather Jr. -LRB- born Floyd Joy Sinclair ; February 24 , 1977 -RRB- is an American former professional boxer who competed from 1996 to 2015 , and currently works as a boxing promoter .\\tprofessional boxer\\tprofessional boxer\\tpromoter\\tpromoter (entertainment)</td>\n",
       "    </tr>\n",
       "  </tbody>\n",
       "</table>\n",
       "</div>"
      ],
      "text/plain": [
       "           id  verifiable     label  \\\n",
       "8058   198218  VERIFIABLE  SUPPORTS   \n",
       "10688  154383  VERIFIABLE  SUPPORTS   \n",
       "17816   36399  VERIFIABLE  SUPPORTS   \n",
       "\n",
       "                                               claim  \\\n",
       "8058         Saturn is a planet in the Solar System.   \n",
       "10688                   Warren Beatty co-wrote Reds.   \n",
       "17816  Floyd Mayweather Jr. is a professional boxer.   \n",
       "\n",
       "                                                                                                                                                                                                                                                                                                                                                                                                                                                                                                                                                                                                                                                                                                                                                                                                                                                                                                                                                                               evidence  \\\n",
       "8058                                                                                                                                                                                                                                                                                                                                                                                                                                                                                                                                                                                                                                                                                                                                                                                                                                                                                                                                                  [[[233056, 236058, 'Saturn', 0]]]   \n",
       "10688                                                                                                                                                                                                                                                                                                                                                                                                                                                                                                                                                                                                                                                                                                                                                                                                                  [[[293532, 286037, 'Warren_Beatty', 2]], [[297406, 289064, 'Warren_Beatty', 2]], [[341783, 326077, 'Warren_Beatty', 2]], [[341784, 326078, 'Warren_Beatty', 2]]]   \n",
       "17816  [[[105200, 118615, 'Floyd_Mayweather_Jr.', 0]], [[105200, 118616, 'Floyd_Mayweather_Jr.', 10]], [[108253, 121786, 'Floyd_Mayweather_Jr.', 0]], [[108253, 121787, 'Floyd_Mayweather_Jr.', 1]], [[108253, 121788, 'Floyd_Mayweather_Jr.', 3]], [[108253, 121789, 'Floyd_Mayweather_Jr.', 6]], [[108253, 121790, 'Floyd_Mayweather_Jr.', 9]], [[108253, 121791, 'Floyd_Mayweather_Jr.', 10]], [[110070, 123695, 'Floyd_Mayweather_Jr.', 0]], [[308093, 298563, 'Floyd_Mayweather_Jr.', 0]], [[308093, 298564, 'Floyd_Mayweather_Jr.', 1]], [[308093, 298565, 'Floyd_Mayweather_Jr.', 3]], [[308093, 298566, 'Floyd_Mayweather_Jr.', 6]], [[308093, 298567, 'Floyd_Mayweather_Jr.', 7]], [[308093, 298568, 'Floyd_Mayweather_Jr.', 8]], [[308093, 298569, 'Floyd_Mayweather_Jr.', 9]], [[308093, 298570, 'Floyd_Mayweather_Jr.', 10]], [[308093, 298571, 'Floyd_Mayweather_Jr.', 15]], [[309497, 299702, 'Floyd_Mayweather_Jr.', 0]], [[309497, 299703, 'Floyd_Mayweather_Jr.', 1]]]   \n",
       "\n",
       "       label_numeric  \\\n",
       "8058               0   \n",
       "10688              0   \n",
       "17816              0   \n",
       "\n",
       "                                                                                                                                                                                                                                                                                                                                                                                                                                                                                                                                                                                                                                                                                                                                                                                                                                                                                                                                                                                                                                                                                                                                                                                                                                                                                                                                                                                                                                                                                                                                                                                                                                                                                                                                                                                                                                                                                                                                                                                                                                                                                                                                                                                                                                                                                                                                                                                                                                                                                                                                                                                                                                                                                                                                                                                                                                                                                                                                                                                                                                                                                                                                                                                                                                                                                                                                                                                                                                                                                                                                                                                                                                                                                                                                                                                                                                                                                                                                                                                                                                                                                                                                                                                                                                                                                                                                                                                                                                                                                                                                                                                                                                                                                                                                                                                                                                                                                                                                                                                                                                                                                                                                                                                                                                                                                                                                                                                                                                                                                                                                                                                                                                                                                                                                                                                                                                                                                                                                                                                                                                                                                                                                                                                                                                                                                                                                                                                                                                                                                                                                                                                                                                                                                                                                                                                                                                                                                                                         sentences  \\\n",
       "8058                                                                                                                                                                                                                                                                                                                                                                                                                                                                                                                                                                                                                                                                                                                                                                                                                                                                                                                                                                                                                                                                                                                                                                                                                                                                                                                                                                                                                                                                                                                                                                                                                                                                                                                                                                                                                                                                                                                                                                                                                                                                                                                                                                                                                                                                                                                                                                                                                                                                                                                                                                                                                                                                                                                                                                                                                                                                                                                                                                                                                                                                                                                                                                                                                                                                                                                                                                                                                                                                                                                                                                                                                                                                                                                                                                                                                                                                                                                                                                                                                                                                                                                                                                                                                                                                                                                                                                                                                                                                                                                                                                                                                                                                                                                                                                                                                                                                                                                                                                                                                                                                                                                                                                                                                                                                                                                                                                                                                                                                                                                                                                                                                                                                                                                                                                                                                                                                                                                                                                                                                                                                                                                                                                                                                                                                                                                                                                                                                                                                                                                                                                                                                                                                                                                  [[Saturn is the sixth planet from the Sun and the second-largest in the Solar System , after Jupiter .\\tSaturn\\tSaturn (mythology)\\tSun\\tSun\\tplanet\\tplanet\\tSolar System\\tSolar System\\tJupiter\\tJupiter]]   \n",
       "10688                                                                                                                                                                                                                                                                                                                                                                                                                                                                                                                                                                                                                                                                                                                                                                                                                                                                                                                                                                                                                                                                                                                                                                                                                                                                                                                                                                                                                                                                                                                                                                                                                                                                                                                                                                                                                                                                                                                                                                                                                                                                                                                                                                                                                                                                                                                                                                                                                                                                                                                                                                                                                                                                                                                                                                                                                                                                                                                                                                                                                                                                                                                                                                                                                                                                                                                                                                                                                                                                                                                                                                                                                                                                                                                                                                                                                                                                                                                                                                                                                                                                                                                                                                                                                                                                                                                                                                                                                                                                                                                                                                                                                                                                                                                                                                                                                                                                                                                                                                                                 [[Beatty is the first and only person to have been twice nominated for acting in , directing , writing , and producing the same film -- first with Heaven Can Wait -LRB- 1978 -RRB- , which was co-written by Elaine May and co-directed by Buck Henry , and again with Reds , which he co-wrote with Trevor Griffiths .\\tReds\\tReds (film)\\tHeaven Can Wait\\tHeaven Can Wait (1978 film)\\tElaine May\\tElaine May\\tBuck Henry\\tBuck Henry\\tTrevor Griffiths\\tTrevor Griffiths], [Beatty is the first and only person to have been twice nominated for acting in , directing , writing , and producing the same film -- first with Heaven Can Wait -LRB- 1978 -RRB- , which was co-written by Elaine May and co-directed by Buck Henry , and again with Reds , which he co-wrote with Trevor Griffiths .\\tReds\\tReds (film)\\tHeaven Can Wait\\tHeaven Can Wait (1978 film)\\tElaine May\\tElaine May\\tBuck Henry\\tBuck Henry\\tTrevor Griffiths\\tTrevor Griffiths], [Beatty is the first and only person to have been twice nominated for acting in , directing , writing , and producing the same film -- first with Heaven Can Wait -LRB- 1978 -RRB- , which was co-written by Elaine May and co-directed by Buck Henry , and again with Reds , which he co-wrote with Trevor Griffiths .\\tReds\\tReds (film)\\tHeaven Can Wait\\tHeaven Can Wait (1978 film)\\tElaine May\\tElaine May\\tBuck Henry\\tBuck Henry\\tTrevor Griffiths\\tTrevor Griffiths], [Beatty is the first and only person to have been twice nominated for acting in , directing , writing , and producing the same film -- first with Heaven Can Wait -LRB- 1978 -RRB- , which was co-written by Elaine May and co-directed by Buck Henry , and again with Reds , which he co-wrote with Trevor Griffiths .\\tReds\\tReds (film)\\tHeaven Can Wait\\tHeaven Can Wait (1978 film)\\tElaine May\\tElaine May\\tBuck Henry\\tBuck Henry\\tTrevor Griffiths\\tTrevor Griffiths]]   \n",
       "17816  [[Floyd Joy Mayweather Jr. -LRB- born Floyd Joy Sinclair ; February 24 , 1977 -RRB- is an American former professional boxer who competed from 1996 to 2015 , and currently works as a boxing promoter .\\tprofessional boxer\\tprofessional boxer\\tpromoter\\tpromoter (entertainment)], [He finished his career with a record of 26 wins without a loss or draw in world title fights -LRB- 10 by KO -RRB- ; 23 wins -LRB- 9 KOs -RRB- in lineal title fights ; 24 wins -LRB- 7 KOs -RRB- against former or current world titlists ; 12 wins -LRB- 3 KOs -RRB- against former or current lineal champions ; and 2 wins -LRB- 1 KO -RRB- against International Boxing Hall of Fame inductees .\\tKO\\tknockout\\tInternational Boxing Hall of Fame\\tInternational Boxing Hall of Fame], [Floyd Joy Mayweather Jr. -LRB- born Floyd Joy Sinclair ; February 24 , 1977 -RRB- is an American former professional boxer who competed from 1996 to 2015 , and currently works as a boxing promoter .\\tprofessional boxer\\tprofessional boxer\\tpromoter\\tpromoter (entertainment)], [Widely considered to be one of the greatest boxers of all time , undefeated as a professional , and a five-division world champion , Mayweather won fifteen world titles and the lineal championship in four different weight classes -LRB- twice at welterweight -RRB- .\\tfive-division world champion\\tquintuple champion\\tlineal championship\\tlineal championship\\twelterweight\\twelterweight], [Mayweather is a two-time winner of The Ring magazine 's Fighter of the Year award -LRB- 1998 and 2007 -RRB- , a three-time winner of the Boxing Writers Association of America -LRB- BWAA -RRB- Fighter of the Year award -LRB- 2007 , 2013 , and 2015 -RRB- , and a six-time winner of the Best Fighter ESPY Award -LRB- 2007 -- 2010 , 2012 -- 2014 -RRB- .\\tFighter of the Year\\tSugar Ray Robinson Award\\tBoxing Writers Association of America\\tBoxing Writers Association of America\\tBest Fighter ESPY Award\\tBest Fighter ESPY Award], [In 2016 , Mayweather was ranked by ESPN as the greatest boxer , pound for pound , of the last 25 years .\\tESPN\\tESPN\\tpound for pound\\tpound for pound], [He is also regarded as the best defensive boxer in the sport , as well as being the most accurate puncher since the existence of CompuBox , having the highest plus -- minus ratio in recorded boxing history .\\tCompuBox\\tCompuBox], [He finished his career with a record of 26 wins without a loss or draw in world title fights -LRB- 10 by KO -RRB- ; 23 wins -LRB- 9 KOs -RRB- in lineal title fights ; 24 wins -LRB- 7 KOs -RRB- against former or current world titlists ; 12 wins -LRB- 3 KOs -RRB- against former or current lineal champions ; and 2 wins -LRB- 1 KO -RRB- against International Boxing Hall of Fame inductees .\\tKO\\tknockout\\tInternational Boxing Hall of Fame\\tInternational Boxing Hall of Fame], [Floyd Joy Mayweather Jr. -LRB- born Floyd Joy Sinclair ; February 24 , 1977 -RRB- is an American former professional boxer who competed from 1996 to 2015 , and currently works as a boxing promoter .\\tprofessional boxer\\tprofessional boxer\\tpromoter\\tpromoter (entertainment)], [Floyd Joy Mayweather Jr. -LRB- born Floyd Joy Sinclair ; February 24 , 1977 -RRB- is an American former professional boxer who competed from 1996 to 2015 , and currently works as a boxing promoter .\\tprofessional boxer\\tprofessional boxer\\tpromoter\\tpromoter (entertainment)], [Widely considered to be one of the greatest boxers of all time , undefeated as a professional , and a five-division world champion , Mayweather won fifteen world titles and the lineal championship in four different weight classes -LRB- twice at welterweight -RRB- .\\tfive-division world champion\\tquintuple champion\\tlineal championship\\tlineal championship\\twelterweight\\twelterweight], [Mayweather is a two-time winner of The Ring magazine 's Fighter of the Year award -LRB- 1998 and 2007 -RRB- , a three-time winner of the Boxing Writers Association of America -LRB- BWAA -RRB- Fighter of the Year award -LRB- 2007 , 2013 , and 2015 -RRB- , and a six-time winner of the Best Fighter ESPY Award -LRB- 2007 -- 2010 , 2012 -- 2014 -RRB- .\\tFighter of the Year\\tSugar Ray Robinson Award\\tBoxing Writers Association of America\\tBoxing Writers Association of America\\tBest Fighter ESPY Award\\tBest Fighter ESPY Award], [In 2016 , Mayweather was ranked by ESPN as the greatest boxer , pound for pound , of the last 25 years .\\tESPN\\tESPN\\tpound for pound\\tpound for pound], [In the same year , he peaked as BoxRec 's number one fighter of all time , pound for pound , as well as the greatest welterweight of all time .\\twelterweight\\twelterweight\\tpound for pound\\tpound for pound\\tBoxRec\\tBoxRec], [Many sporting news and boxing websites ranked Mayweather as the best boxer in the world , pound for pound , twice in a span of ten years ; including The Ring , Sports Illustrated , ESPN , BoxRec , Fox Sports , and Yahoo! Sports .\\tESPN\\tESPN\\tpound for pound\\tpound for pound\\tBoxRec\\tBoxRec\\tSports Illustrated\\tSports Illustrated\\tFox Sports\\tFox Sports (United States)\\tYahoo! Sports\\tYahoo! Sports], [He is also regarded as the best defensive boxer in the sport , as well as being the most accurate puncher since the existence of CompuBox , having the highest plus -- minus ratio in recorded boxing history .\\tCompuBox\\tCompuBox], [He finished his career with a record of 26 wins without a loss or draw in world title fights -LRB- 10 by KO -RRB- ; 23 wins -LRB- 9 KOs -RRB- in lineal title fights ; 24 wins -LRB- 7 KOs -RRB- against former or current world titlists ; 12 wins -LRB- 3 KOs -RRB- against former or current lineal champions ; and 2 wins -LRB- 1 KO -RRB- against International Boxing Hall of Fame inductees .\\tKO\\tknockout\\tInternational Boxing Hall of Fame\\tInternational Boxing Hall of Fame], [In 2007 , he founded Mayweather Promotions , his own boxing promotional firm after defecting from Bob Arum 's Top Rank .\\tMayweather Promotions\\tMayweather Promotions\\tBob Arum\\tBob Arum\\tTop Rank\\tTop Rank], [Floyd Joy Mayweather Jr. -LRB- born Floyd Joy Sinclair ; February 24 , 1977 -RRB- is an American former professional boxer who competed from 1996 to 2015 , and currently works as a boxing promoter .\\tprofessional boxer\\tprofessional boxer\\tpromoter\\tpromoter (entertainment)], [Widely considered to be one of the greatest boxers of all time , undefeated as a professional , and a five-division world champion , Mayweather won fifteen world titles and the lineal championship in four different weight classes -LRB- twice at welterweight -RRB- .\\tfive-division world champion\\tquintuple champion\\tlineal championship\\tlineal championship\\twelterweight\\twelterweight]]   \n",
       "\n",
       "                                                                                                                                                                                                                                                                                                                                                                                                                                                                    first_sentence  \n",
       "8058                                                                                                                                                                                                                                                                      Saturn is the sixth planet from the Sun and the second-largest in the Solar System , after Jupiter .\\tSaturn\\tSaturn (mythology)\\tSun\\tSun\\tplanet\\tplanet\\tSolar System\\tSolar System\\tJupiter\\tJupiter  \n",
       "10688  Beatty is the first and only person to have been twice nominated for acting in , directing , writing , and producing the same film -- first with Heaven Can Wait -LRB- 1978 -RRB- , which was co-written by Elaine May and co-directed by Buck Henry , and again with Reds , which he co-wrote with Trevor Griffiths .\\tReds\\tReds (film)\\tHeaven Can Wait\\tHeaven Can Wait (1978 film)\\tElaine May\\tElaine May\\tBuck Henry\\tBuck Henry\\tTrevor Griffiths\\tTrevor Griffiths  \n",
       "17816                                                                                                                                                                                           Floyd Joy Mayweather Jr. -LRB- born Floyd Joy Sinclair ; February 24 , 1977 -RRB- is an American former professional boxer who competed from 1996 to 2015 , and currently works as a boxing promoter .\\tprofessional boxer\\tprofessional boxer\\tpromoter\\tpromoter (entertainment)  "
      ]
     },
     "execution_count": 148,
     "metadata": {},
     "output_type": "execute_result"
    }
   ],
   "source": [
    "df_dev[df_dev[\"claim\"].isin(df_train[\"claim\"])]"
   ]
  }
 ],
 "metadata": {
  "kernelspec": {
   "display_name": "Python 3",
   "language": "python",
   "name": "python3"
  },
  "language_info": {
   "codemirror_mode": {
    "name": "ipython",
    "version": 3
   },
   "file_extension": ".py",
   "mimetype": "text/x-python",
   "name": "python",
   "nbconvert_exporter": "python",
   "pygments_lexer": "ipython3",
   "version": "3.8.5"
  },
  "toc": {
   "base_numbering": 1,
   "nav_menu": {},
   "number_sections": true,
   "sideBar": true,
   "skip_h1_title": false,
   "title_cell": "Table of Contents",
   "title_sidebar": "Contents",
   "toc_cell": false,
   "toc_position": {},
   "toc_section_display": true,
   "toc_window_display": false
  }
 },
 "nbformat": 4,
 "nbformat_minor": 5
}
